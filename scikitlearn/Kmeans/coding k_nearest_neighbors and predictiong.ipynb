{
 "cells": [
  {
   "cell_type": "code",
   "execution_count": 2,
   "metadata": {},
   "outputs": [],
   "source": [
    "import numpy as np\n",
    "import matplotlib.pyplot as plt\n",
    "from matplotlib import style\n",
    "from collections import Counter\n",
    "style.use('fivethirtyeight')"
   ]
  },
  {
   "cell_type": "code",
   "execution_count": 6,
   "metadata": {},
   "outputs": [
    {
     "data": {
      "image/png": "[encoded data removed]",
      "text/plain": [
       "<Figure size 432x288 with 1 Axes>"
      ]
     },
     "metadata": {
      "needs_background": "light"
     },
     "output_type": "display_data"
    }
   ],
   "source": [
    "dataset = {'k':[[1,2],[2,3],[3,1]], 'r':[[6,5],[7,7],[8,6]]}\n",
    "new_features = [5,7]\n",
    "\n",
    "for i in dataset:\n",
    "    for ii in dataset[i]:\n",
    "        plt.scatter(ii[0],ii[1],s=100,color = i)\n",
    "    \n",
    "plt.scatter(new_features[0],new_features[1], s=100,color='yellow')\n",
    "plt.show()\n",
    "\n",
    "# euclidean_distance = "
   ]
  },
  {
   "cell_type": "code",
   "execution_count": 16,
   "metadata": {},
   "outputs": [
    {
     "name": "stdout",
     "output_type": "stream",
     "text": [
      "most common [('k', 3)] votes ['k', 'k', 'k']\n",
      "most common [('r', 3)] votes ['r', 'r', 'r']\n",
      "r\n"
     ]
    },
    {
     "data": {
      "image/png": "[encoded data removed]",
      "text/plain": [
       "<Figure size 432x288 with 1 Axes>"
      ]
     },
     "metadata": {
      "needs_background": "light"
     },
     "output_type": "display_data"
    }
   ],
   "source": [
    "# kmeans algo\n",
    "\n",
    "def k_nearest_neighbors(data, predict, k=3):\n",
    "    if(len(data)>=k):\n",
    "        warnings.warn('K is set to a a value lass than total voting groups')\n",
    "        \n",
    "    distances = []\n",
    "    for group in data:\n",
    "        for features in data[group]:\n",
    "#             euclidean_distance = \n",
    "#                 np.sqrt(np.sum((np.array(features) - np.array(predict))**2))\n",
    "                  euclidean_distance = np.linalg.norm(np.array(features)-np.array(predict))\n",
    "                  distances.append([euclidean_distance, group])\n",
    "        \n",
    "        votes = [i[1] for i in sorted(distances)[:k]]\n",
    "        print('most common',Counter(votes).most_common(1),'votes',votes)\n",
    "        vote_results = Counter(votes).most_common(1)[0][0 ]\n",
    "    return vote_results\n",
    "\n",
    "result = k_nearest_neighbors(dataset, new_features, k=3)\n",
    "print(result)\n",
    "for i in dataset:\n",
    "    for ii in dataset[i]:\n",
    "        plt.scatter(ii[0],ii[1],s=100,color = i)\n",
    "    \n",
    "plt.scatter(new_features[0],new_features[1], s=100,color='yellow')\n",
    "plt.show()"
   ]
  },
  {
   "cell_type": "code",
   "execution_count": null,
   "metadata": {},
   "outputs": [],
   "source": []
  }
 ],
 "metadata": {
  "kernelspec": {
   "display_name": "Python 3",
   "language": "python",
   "name": "python3"
  },
  "language_info": {
   "codemirror_mode": {
    "name": "ipython",
    "version": 3
   },
   "file_extension": ".py",
   "mimetype": "text/x-python",
   "name": "python",
   "nbconvert_exporter": "python",
   "pygments_lexer": "ipython3",
   "version": "3.7.4"
  }
 },
 "nbformat": 4,
 "nbformat_minor": 2
}
