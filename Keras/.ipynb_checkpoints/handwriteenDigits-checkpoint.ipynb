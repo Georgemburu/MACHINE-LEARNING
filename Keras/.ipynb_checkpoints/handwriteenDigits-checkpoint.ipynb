{
 "cells": [
  {
   "cell_type": "code",
   "execution_count": 2,
   "metadata": {},
   "outputs": [
    {
     "name": "stderr",
     "output_type": "stream",
     "text": [
      "Using TensorFlow backend.\n",
      "/home/george/anaconda3/lib/python3.7/site-packages/tensorflow/python/framework/dtypes.py:516: FutureWarning: Passing (type, 1) or '1type' as a synonym of type is deprecated; in a future version of numpy, it will be understood as (type, (1,)) / '(1,)type'.\n",
      "  _np_qint8 = np.dtype([(\"qint8\", np.int8, 1)])\n",
      "/home/george/anaconda3/lib/python3.7/site-packages/tensorflow/python/framework/dtypes.py:517: FutureWarning: Passing (type, 1) or '1type' as a synonym of type is deprecated; in a future version of numpy, it will be understood as (type, (1,)) / '(1,)type'.\n",
      "  _np_quint8 = np.dtype([(\"quint8\", np.uint8, 1)])\n",
      "/home/george/anaconda3/lib/python3.7/site-packages/tensorflow/python/framework/dtypes.py:518: FutureWarning: Passing (type, 1) or '1type' as a synonym of type is deprecated; in a future version of numpy, it will be understood as (type, (1,)) / '(1,)type'.\n",
      "  _np_qint16 = np.dtype([(\"qint16\", np.int16, 1)])\n",
      "/home/george/anaconda3/lib/python3.7/site-packages/tensorflow/python/framework/dtypes.py:519: FutureWarning: Passing (type, 1) or '1type' as a synonym of type is deprecated; in a future version of numpy, it will be understood as (type, (1,)) / '(1,)type'.\n",
      "  _np_quint16 = np.dtype([(\"quint16\", np.uint16, 1)])\n",
      "/home/george/anaconda3/lib/python3.7/site-packages/tensorflow/python/framework/dtypes.py:520: FutureWarning: Passing (type, 1) or '1type' as a synonym of type is deprecated; in a future version of numpy, it will be understood as (type, (1,)) / '(1,)type'.\n",
      "  _np_qint32 = np.dtype([(\"qint32\", np.int32, 1)])\n",
      "/home/george/anaconda3/lib/python3.7/site-packages/tensorflow/python/framework/dtypes.py:525: FutureWarning: Passing (type, 1) or '1type' as a synonym of type is deprecated; in a future version of numpy, it will be understood as (type, (1,)) / '(1,)type'.\n",
      "  np_resource = np.dtype([(\"resource\", np.ubyte, 1)])\n",
      "/home/george/anaconda3/lib/python3.7/site-packages/tensorboard/compat/tensorflow_stub/dtypes.py:541: FutureWarning: Passing (type, 1) or '1type' as a synonym of type is deprecated; in a future version of numpy, it will be understood as (type, (1,)) / '(1,)type'.\n",
      "  _np_qint8 = np.dtype([(\"qint8\", np.int8, 1)])\n",
      "/home/george/anaconda3/lib/python3.7/site-packages/tensorboard/compat/tensorflow_stub/dtypes.py:542: FutureWarning: Passing (type, 1) or '1type' as a synonym of type is deprecated; in a future version of numpy, it will be understood as (type, (1,)) / '(1,)type'.\n",
      "  _np_quint8 = np.dtype([(\"quint8\", np.uint8, 1)])\n",
      "/home/george/anaconda3/lib/python3.7/site-packages/tensorboard/compat/tensorflow_stub/dtypes.py:543: FutureWarning: Passing (type, 1) or '1type' as a synonym of type is deprecated; in a future version of numpy, it will be understood as (type, (1,)) / '(1,)type'.\n",
      "  _np_qint16 = np.dtype([(\"qint16\", np.int16, 1)])\n",
      "/home/george/anaconda3/lib/python3.7/site-packages/tensorboard/compat/tensorflow_stub/dtypes.py:544: FutureWarning: Passing (type, 1) or '1type' as a synonym of type is deprecated; in a future version of numpy, it will be understood as (type, (1,)) / '(1,)type'.\n",
      "  _np_quint16 = np.dtype([(\"quint16\", np.uint16, 1)])\n",
      "/home/george/anaconda3/lib/python3.7/site-packages/tensorboard/compat/tensorflow_stub/dtypes.py:545: FutureWarning: Passing (type, 1) or '1type' as a synonym of type is deprecated; in a future version of numpy, it will be understood as (type, (1,)) / '(1,)type'.\n",
      "  _np_qint32 = np.dtype([(\"qint32\", np.int32, 1)])\n",
      "/home/george/anaconda3/lib/python3.7/site-packages/tensorboard/compat/tensorflow_stub/dtypes.py:550: FutureWarning: Passing (type, 1) or '1type' as a synonym of type is deprecated; in a future version of numpy, it will be understood as (type, (1,)) / '(1,)type'.\n",
      "  np_resource = np.dtype([(\"resource\", np.ubyte, 1)])\n"
     ]
    }
   ],
   "source": [
    "from keras.models import Sequential\n",
    "from keras.layers import Flatten, Dense\n",
    "from keras.datasets import mnist\n",
    "from keras.losses import sparse_categorical_crossentropy\n",
    "from keras.models import load_model"
   ]
  },
  {
   "cell_type": "code",
   "execution_count": 22,
   "metadata": {},
   "outputs": [],
   "source": [
    "(trainingData,trainingLabels),(testData,testLabel) = mnist.load_data()"
   ]
  },
  {
   "cell_type": "code",
   "execution_count": 23,
   "metadata": {},
   "outputs": [],
   "source": [
    "scaledTrainingData = trainingData/255\n",
    "scaledTextData = testData/255"
   ]
  },
  {
   "cell_type": "code",
   "execution_count": 12,
   "metadata": {},
   "outputs": [],
   "source": [
    "#model"
   ]
  },
  {
   "cell_type": "code",
   "execution_count": 28,
   "metadata": {
    "scrolled": true
   },
   "outputs": [
    {
     "name": "stdout",
     "output_type": "stream",
     "text": [
      "Model: \"sequential_5\"\n",
      "_________________________________________________________________\n",
      "Layer (type)                 Output Shape              Param #   \n",
      "=================================================================\n",
      "flatten_8 (Flatten)          (None, 784)               0         \n",
      "_________________________________________________________________\n",
      "dense_15 (Dense)             (None, 784)               615440    \n",
      "_________________________________________________________________\n",
      "dense_16 (Dense)             (None, 10)                7850      \n",
      "=================================================================\n",
      "Total params: 623,290\n",
      "Trainable params: 623,290\n",
      "Non-trainable params: 0\n",
      "_________________________________________________________________\n"
     ]
    }
   ],
   "source": [
    "model = Sequential([\n",
    "    Flatten(input_shape=(28,28)),\n",
    "    Dense(784,activation='relu'),\n",
    "    Dense(10,activation='softmax')\n",
    "],\n",
    ")\n",
    "model.compile('adam',loss='sparse_categorical_crossentropy', metrics=['accuracy'])\n",
    "model.summary()"
   ]
  },
  {
   "cell_type": "code",
   "execution_count": 29,
   "metadata": {},
   "outputs": [
    {
     "name": "stdout",
     "output_type": "stream",
     "text": [
      "Epoch 1/10\n",
      "60000/60000 [==============================] - 93s 2ms/step - loss: 0.1918 - accuracy: 0.9426\n",
      "Epoch 2/10\n",
      "60000/60000 [==============================] - 89s 1ms/step - loss: 0.0757 - accuracy: 0.9767\n",
      "Epoch 3/10\n",
      "60000/60000 [==============================] - 99s 2ms/step - loss: 0.0495 - accuracy: 0.9846\n",
      "Epoch 4/10\n",
      "60000/60000 [==============================] - 90s 1ms/step - loss: 0.0357 - accuracy: 0.9882\n",
      "Epoch 5/10\n",
      "60000/60000 [==============================] - 93s 2ms/step - loss: 0.0269 - accuracy: 0.9912\n",
      "Epoch 6/10\n",
      "60000/60000 [==============================] - 90s 1ms/step - loss: 0.0199 - accuracy: 0.9935\n",
      "Epoch 7/10\n",
      "60000/60000 [==============================] - 90s 1ms/step - loss: 0.0172 - accuracy: 0.9945\n",
      "Epoch 8/10\n",
      "60000/60000 [==============================] - 91s 2ms/step - loss: 0.0134 - accuracy: 0.9954\n",
      "Epoch 9/10\n",
      "60000/60000 [==============================] - 92s 2ms/step - loss: 0.0121 - accuracy: 0.9959\n",
      "Epoch 10/10\n",
      "60000/60000 [==============================] - 94s 2ms/step - loss: 0.0104 - accuracy: 0.9963\n",
      "10000/10000 [==============================] - 6s 591us/step\n",
      "Test acc: 0.9801999926567078\n"
     ]
    }
   ],
   "source": [
    "model.fit(scaledTrainingData,trainingLabels,epochs=10)\n",
    "\n",
    "test_loss,test_acc = model.evaluate(scaledTextData,testLabel)\n",
    "\n",
    "print('Test acc:',test_acc)"
   ]
  },
  {
   "cell_type": "code",
   "execution_count": null,
   "metadata": {},
   "outputs": [],
   "source": [
    "# class_names = ['T-shirt/top','Trouser','Pullover','Dress','Coat',\n",
    "#               'Sandal','Shirt','Sneaker','Bag','Ankle boot']"
   ]
  },
  {
   "cell_type": "code",
   "execution_count": 36,
   "metadata": {},
   "outputs": [],
   "source": [
    "# model.save('digitsModels/handWrittenDigits.h5')"
   ]
  },
  {
   "cell_type": "code",
   "execution_count": 5,
   "metadata": {},
   "outputs": [
    {
     "name": "stdout",
     "output_type": "stream",
     "text": [
      "WARNING:tensorflow:From /home/george/anaconda3/lib/python3.7/site-packages/keras/backend/tensorflow_backend.py:422: The name tf.global_variables is deprecated. Please use tf.compat.v1.global_variables instead.\n",
      "\n"
     ]
    }
   ],
   "source": [
    "savedmodal = load_model('digitsModels/handWrittenDigits.h5')"
   ]
  },
  {
   "cell_type": "code",
   "execution_count": 6,
   "metadata": {},
   "outputs": [
    {
     "ename": "NameError",
     "evalue": "name 'scaledTextData' is not defined",
     "output_type": "error",
     "traceback": [
      "\u001b[0;31m---------------------------------------------------------------------------\u001b[0m",
      "\u001b[0;31mNameError\u001b[0m                                 Traceback (most recent call last)",
      "\u001b[0;32m<ipython-input-6-e40bdb8d69fc>\u001b[0m in \u001b[0;36m<module>\u001b[0;34m\u001b[0m\n\u001b[0;32m----> 1\u001b[0;31m \u001b[0mprediction\u001b[0m \u001b[0;34m=\u001b[0m \u001b[0msavedmodal\u001b[0m\u001b[0;34m.\u001b[0m\u001b[0mpredict\u001b[0m\u001b[0;34m(\u001b[0m\u001b[0;34m[\u001b[0m\u001b[0;34m[\u001b[0m\u001b[0mscaledTextData\u001b[0m\u001b[0;34m[\u001b[0m\u001b[0;36m0\u001b[0m\u001b[0;34m]\u001b[0m\u001b[0;34m]\u001b[0m\u001b[0;34m]\u001b[0m\u001b[0;34m)\u001b[0m\u001b[0;34m\u001b[0m\u001b[0;34m\u001b[0m\u001b[0m\n\u001b[0m",
      "\u001b[0;31mNameError\u001b[0m: name 'scaledTextData' is not defined"
     ]
    }
   ],
   "source": [
    "prediction = savedmodal.predict([[scaledTextData[0]]])"
   ]
  },
  {
   "cell_type": "code",
   "execution_count": 4,
   "metadata": {},
   "outputs": [],
   "source": [
    "import numpy as np\n",
    "# np.argmax(prediction[0])"
   ]
  },
  {
   "cell_type": "code",
   "execution_count": 51,
   "metadata": {},
   "outputs": [],
   "source": [
    "# plot"
   ]
  },
  {
   "cell_type": "code",
   "execution_count": 7,
   "metadata": {},
   "outputs": [],
   "source": [
    "import matplotlib.pyplot as plt"
   ]
  },
  {
   "cell_type": "code",
   "execution_count": 8,
   "metadata": {},
   "outputs": [
    {
     "ename": "NameError",
     "evalue": "name 'scaledTextData' is not defined",
     "output_type": "error",
     "traceback": [
      "\u001b[0;31m---------------------------------------------------------------------------\u001b[0m",
      "\u001b[0;31mNameError\u001b[0m                                 Traceback (most recent call last)",
      "\u001b[0;32m<ipython-input-8-6ebfa4353b2f>\u001b[0m in \u001b[0;36m<module>\u001b[0;34m\u001b[0m\n\u001b[0;32m----> 1\u001b[0;31m \u001b[0mplt\u001b[0m\u001b[0;34m.\u001b[0m\u001b[0mimshow\u001b[0m\u001b[0;34m(\u001b[0m\u001b[0mscaledTextData\u001b[0m\u001b[0;34m[\u001b[0m\u001b[0;36m0\u001b[0m\u001b[0;34m]\u001b[0m\u001b[0;34m)\u001b[0m\u001b[0;34m\u001b[0m\u001b[0;34m\u001b[0m\u001b[0m\n\u001b[0m",
      "\u001b[0;31mNameError\u001b[0m: name 'scaledTextData' is not defined"
     ]
    }
   ],
   "source": [
    "plt.imshow(scaledTextData[0])"
   ]
  },
  {
   "cell_type": "code",
   "execution_count": 9,
   "metadata": {},
   "outputs": [
    {
     "data": {
      "text/plain": [
       "['DataFrameIterator',\n",
       " 'DirectoryIterator',\n",
       " 'ImageDataGenerator',\n",
       " 'Iterator',\n",
       " 'NumpyArrayIterator',\n",
       " '__builtins__',\n",
       " '__cached__',\n",
       " '__doc__',\n",
       " '__file__',\n",
       " '__loader__',\n",
       " '__name__',\n",
       " '__package__',\n",
       " '__spec__',\n",
       " 'absolute_import',\n",
       " 'apply_affine_transform',\n",
       " 'apply_brightness_shift',\n",
       " 'apply_channel_shift',\n",
       " 'array_to_img',\n",
       " 'backend',\n",
       " 'division',\n",
       " 'generic_utils',\n",
       " 'image',\n",
       " 'img_to_array',\n",
       " 'load_img',\n",
       " 'print_function',\n",
       " 'random_brightness',\n",
       " 'random_channel_shift',\n",
       " 'random_rotation',\n",
       " 'random_shear',\n",
       " 'random_shift',\n",
       " 'random_zoom',\n",
       " 'save_img',\n",
       " 'utils']"
      ]
     },
     "execution_count": 9,
     "metadata": {},
     "output_type": "execute_result"
    }
   ],
   "source": [
    "from keras.preprocessing import image\n",
    "dir(image)"
   ]
  },
  {
   "cell_type": "code",
   "execution_count": 10,
   "metadata": {},
   "outputs": [],
   "source": [
    "img = image.load_img('./bitmap.png')"
   ]
  },
  {
   "cell_type": "code",
   "execution_count": 11,
   "metadata": {},
   "outputs": [
    {
     "data": {
      "text/plain": [
       "<matplotlib.image.AxesImage at 0x7fda2582f610>"
      ]
     },
     "execution_count": 11,
     "metadata": {},
     "output_type": "execute_result"
    },
    {
     "data": {
      "image/png": "[encoded data removed]",
      "text/plain": [
       "<Figure size 432x288 with 1 Axes>"
      ]
     },
     "metadata": {
      "needs_background": "light"
     },
     "output_type": "display_data"
    }
   ],
   "source": [
    "plt.imshow(img)"
   ]
  },
  {
   "cell_type": "code",
   "execution_count": 12,
   "metadata": {},
   "outputs": [],
   "source": [
    "from keras import backend as K"
   ]
  },
  {
   "cell_type": "code",
   "execution_count": 15,
   "metadata": {},
   "outputs": [
    {
     "ename": "ValueError",
     "evalue": "cannot reshape array of size 2352 into shape (1,28,28,1)",
     "output_type": "error",
     "traceback": [
      "\u001b[0;31m---------------------------------------------------------------------------\u001b[0m",
      "\u001b[0;31mValueError\u001b[0m                                Traceback (most recent call last)",
      "\u001b[0;32m<ipython-input-15-c1f340d3149d>\u001b[0m in \u001b[0;36m<module>\u001b[0;34m\u001b[0m\n\u001b[1;32m      2\u001b[0m \u001b[0;34m\u001b[0m\u001b[0m\n\u001b[1;32m      3\u001b[0m \u001b[0mimgArrData\u001b[0m \u001b[0;34m=\u001b[0m \u001b[0mnp\u001b[0m\u001b[0;34m.\u001b[0m\u001b[0mexpand_dims\u001b[0m\u001b[0;34m(\u001b[0m\u001b[0mimgArrData\u001b[0m\u001b[0;34m,\u001b[0m \u001b[0maxis\u001b[0m\u001b[0;34m=\u001b[0m\u001b[0;34m-\u001b[0m\u001b[0;36m1\u001b[0m\u001b[0;34m)\u001b[0m\u001b[0;34m\u001b[0m\u001b[0;34m\u001b[0m\u001b[0m\n\u001b[0;32m----> 4\u001b[0;31m \u001b[0mimgArrData\u001b[0m\u001b[0;34m.\u001b[0m\u001b[0mreshape\u001b[0m\u001b[0;34m(\u001b[0m\u001b[0;36m1\u001b[0m\u001b[0;34m,\u001b[0m\u001b[0;36m28\u001b[0m\u001b[0;34m,\u001b[0m\u001b[0;36m28\u001b[0m\u001b[0;34m,\u001b[0m\u001b[0;36m1\u001b[0m\u001b[0;34m)\u001b[0m\u001b[0;34m\u001b[0m\u001b[0;34m\u001b[0m\u001b[0m\n\u001b[0m",
      "\u001b[0;31mValueError\u001b[0m: cannot reshape array of size 2352 into shape (1,28,28,1)"
     ]
    }
   ],
   "source": [
    "imgArrData = image.img_to_array(img,)\n",
    "\n",
    "imgArrData = np.expand_dims(imgArrData, axis=-1)\n",
    "imgArrData.reshape(1,28,28,1)"
   ]
  },
  {
   "cell_type": "code",
   "execution_count": 16,
   "metadata": {
    "scrolled": true
   },
   "outputs": [
    {
     "data": {
      "text/plain": [
       "(28, 28, 3, 1)"
      ]
     },
     "execution_count": 16,
     "metadata": {},
     "output_type": "execute_result"
    }
   ],
   "source": [
    "scaledImageArrData = imgArrData/255\n",
    "scaledImageArrData.shape"
   ]
  },
  {
   "cell_type": "code",
   "execution_count": 52,
   "metadata": {},
   "outputs": [
    {
     "name": "stdout",
     "output_type": "stream",
     "text": [
      "img <PIL.PngImagePlugin.PngImageFile image mode=RGBA size=28x28 at 0x7FDA19FD49D0>\n",
      "ate <PIL.PngImagePlugin.PngImageFile image mode=RGBA size=28x28 at 0x7FDA19FD49D0>\n",
      "[[[0.95294118 0.95294118 0.95294118 0.99215686 0.95294118 0.95294118\n",
      "   0.95294118 0.99215686 0.95294118 0.95294118 0.95294118 0.99215686\n",
      "   0.95294118 0.95294118 0.95294118 0.99215686 0.95294118 0.95294118\n",
      "   0.95294118 0.99215686 0.95294118 0.95294118 0.95294118 0.99215686\n",
      "   0.95294118 0.95294118 0.95294118 0.99215686]\n",
      "  [0.95294118 0.95294118 0.95294118 0.99215686 0.95294118 0.95294118\n",
      "   0.95294118 0.99215686 0.95294118 0.95294118 0.95294118 0.99215686\n",
      "   0.95294118 0.95294118 0.95294118 0.99215686 0.95294118 0.95294118\n",
      "   0.95294118 0.99215686 0.95294118 0.95294118 0.95294118 0.99215686\n",
      "   0.95294118 0.95294118 0.95294118 0.99215686]\n",
      "  [0.95294118 0.95294118 0.95294118 0.99215686 0.95294118 0.95294118\n",
      "   0.95294118 0.99215686 0.95294118 0.95294118 0.95294118 0.99215686\n",
      "   0.95294118 0.95294118 0.95294118 0.99215686 0.95294118 0.95294118\n",
      "   0.95294118 0.99215686 0.95294118 0.95294118 0.95294118 0.99215686\n",
      "   0.95294118 0.95294118 0.95294118 0.99215686]\n",
      "  [0.95294118 0.95294118 0.95294118 0.99215686 0.95294118 0.95294118\n",
      "   0.95294118 0.99215686 0.95294118 0.95294118 0.95294118 0.99215686\n",
      "   0.95294118 0.95294118 0.95294118 0.99215686 0.95294118 0.95294118\n",
      "   0.95294118 0.99215686 0.95294118 0.95294118 0.95294118 0.99215686\n",
      "   0.95294118 0.95294118 0.95294118 0.99215686]\n",
      "  [0.95294118 0.95294118 0.95294118 0.99215686 0.95294118 0.95294118\n",
      "   0.95294118 0.99215686 0.95294118 0.95294118 0.95294118 0.99215686\n",
      "   0.95294118 0.95294118 0.95294118 0.99215686 0.95294118 0.95294118\n",
      "   0.95294118 0.99215686 0.95294118 0.95294118 0.95294118 0.99215686\n",
      "   0.95294118 0.95294118 0.95294118 0.99215686]\n",
      "  [0.95294118 0.95294118 0.95294118 0.99215686 0.95294118 0.95294118\n",
      "   0.95294118 0.99215686 0.95294118 0.95294118 0.95294118 0.99215686\n",
      "   0.95294118 0.95294118 0.95294118 0.99215686 0.95294118 0.95294118\n",
      "   0.95294118 0.99215686 0.95294118 0.95294118 0.95294118 0.99215686\n",
      "   0.95294118 0.95294118 0.95294118 0.99215686]\n",
      "  [0.95294118 0.95294118 0.95294118 0.99215686 0.95294118 0.95294118\n",
      "   0.95294118 0.99215686 0.95294118 0.95294118 0.95294118 0.99215686\n",
      "   0.95294118 0.95294118 0.95294118 0.99215686 0.95294118 0.95294118\n",
      "   0.95294118 0.99215686 0.95294118 0.95294118 0.95294118 0.99215686\n",
      "   0.95294118 0.95294118 0.95294118 0.99215686]\n",
      "  [0.95294118 0.95294118 0.95294118 0.99215686 0.95294118 0.95294118\n",
      "   0.95294118 0.99215686 0.95294118 0.95294118 0.95294118 0.99215686\n",
      "   0.95294118 0.95294118 0.95294118 0.99215686 0.95294118 0.95294118\n",
      "   0.95294118 0.99215686 0.95294118 0.95294118 0.95294118 0.99215686\n",
      "   0.95294118 0.95294118 0.95294118 0.99215686]\n",
      "  [0.95294118 0.95294118 0.95294118 0.99215686 0.95294118 0.95294118\n",
      "   0.95294118 0.99215686 0.95294118 0.95294118 0.95294118 0.99215686\n",
      "   0.95294118 0.95294118 0.95294118 0.99215686 0.95294118 0.95294118\n",
      "   0.95294118 0.99215686 0.95294118 0.95294118 0.95294118 0.99215686\n",
      "   0.95294118 0.95294118 0.95294118 0.99215686]\n",
      "  [0.95294118 0.95294118 0.95294118 0.99215686 0.95294118 0.95294118\n",
      "   0.95294118 0.99215686 0.95294118 0.95294118 0.95294118 0.99215686\n",
      "   0.95294118 0.95294118 0.95294118 0.99215686 0.95294118 0.95294118\n",
      "   0.95294118 0.99215686 0.88627451 0.88627451 0.88627451 0.99215686\n",
      "   0.7372549  0.7372549  0.7372549  0.99215686]\n",
      "  [0.6        0.6        0.6        0.99607843 0.54901961 0.54901961\n",
      "   0.54901961 0.99607843 0.45098039 0.45098039 0.45098039 0.99607843\n",
      "   0.39215686 0.39215686 0.39215686 0.99607843 0.4627451  0.4627451\n",
      "   0.4627451  0.99607843 0.94901961 0.94901961 0.94901961 0.99215686\n",
      "   0.95294118 0.95294118 0.95294118 0.99215686]\n",
      "  [0.95294118 0.95294118 0.95294118 0.99215686 0.95294118 0.95294118\n",
      "   0.95294118 0.99215686 0.95294118 0.95294118 0.95294118 0.99215686\n",
      "   0.95294118 0.95294118 0.95294118 0.99215686 0.95294118 0.95294118\n",
      "   0.95294118 0.99215686 0.95294118 0.95294118 0.95294118 0.99215686\n",
      "   0.95294118 0.95294118 0.95294118 0.99215686]\n",
      "  [0.95294118 0.95294118 0.95294118 0.99215686 0.95294118 0.95294118\n",
      "   0.95294118 0.99215686 0.95294118 0.95294118 0.95294118 0.99215686\n",
      "   0.95294118 0.95294118 0.95294118 0.99215686 0.95294118 0.95294118\n",
      "   0.95294118 0.99215686 0.95294118 0.95294118 0.95294118 0.99215686\n",
      "   0.95294118 0.95294118 0.95294118 0.99215686]\n",
      "  [0.95294118 0.95294118 0.95294118 0.99215686 0.92156863 0.92156863\n",
      "   0.92156863 0.99215686 0.63137255 0.63137255 0.63137255 0.99607843\n",
      "   0.3372549  0.3372549  0.3372549  0.99607843 0.10588235 0.10588235\n",
      "   0.10588235 1.         0.05882353 0.05882353 0.05882353 1.\n",
      "   0.2        0.2        0.2        1.        ]\n",
      "  [0.3372549  0.3372549  0.3372549  0.99607843 0.39607843 0.39607843\n",
      "   0.39607843 0.99607843 0.49411765 0.49411765 0.49411765 0.99607843\n",
      "   0.55686275 0.55686275 0.55686275 0.99607843 0.11764706 0.11764706\n",
      "   0.11764706 1.         0.78039216 0.78039216 0.78039216 0.99215686\n",
      "   0.95294118 0.95294118 0.95294118 0.99215686]\n",
      "  [0.95294118 0.95294118 0.95294118 0.99215686 0.95294118 0.95294118\n",
      "   0.95294118 0.99215686 0.95294118 0.95294118 0.95294118 0.99215686\n",
      "   0.95294118 0.95294118 0.95294118 0.99215686 0.95294118 0.95294118\n",
      "   0.95294118 0.99215686 0.95294118 0.95294118 0.95294118 0.99215686\n",
      "   0.95294118 0.95294118 0.95294118 0.99215686]\n",
      "  [0.95294118 0.95294118 0.95294118 0.99215686 0.95294118 0.95294118\n",
      "   0.95294118 0.99215686 0.95294118 0.95294118 0.95294118 0.99215686\n",
      "   0.95294118 0.95294118 0.95294118 0.99215686 0.95294118 0.95294118\n",
      "   0.95294118 0.99215686 0.95294118 0.95294118 0.95294118 0.99215686\n",
      "   0.95294118 0.95294118 0.95294118 0.99215686]\n",
      "  [0.64705882 0.64705882 0.64705882 0.99607843 0.30196078 0.30196078\n",
      "   0.30196078 0.99607843 0.30588235 0.30588235 0.30588235 0.99607843\n",
      "   0.58823529 0.58823529 0.58823529 0.99607843 0.81176471 0.81176471\n",
      "   0.81176471 0.99215686 0.95294118 0.95294118 0.95294118 0.99215686\n",
      "   0.95294118 0.95294118 0.95294118 0.99215686]\n",
      "  [0.95294118 0.95294118 0.95294118 0.99215686 0.95294118 0.95294118\n",
      "   0.95294118 0.99215686 0.95294118 0.95294118 0.95294118 0.99215686\n",
      "   0.95294118 0.95294118 0.95294118 0.99215686 0.15294118 0.15294118\n",
      "   0.15294118 1.         0.8        0.8        0.8        0.99215686\n",
      "   0.95294118 0.95294118 0.95294118 0.99215686]\n",
      "  [0.95294118 0.95294118 0.95294118 0.99215686 0.95294118 0.95294118\n",
      "   0.95294118 0.99215686 0.95294118 0.95294118 0.95294118 0.99215686\n",
      "   0.95294118 0.95294118 0.95294118 0.99215686 0.95294118 0.95294118\n",
      "   0.95294118 0.99215686 0.95294118 0.95294118 0.95294118 0.99215686\n",
      "   0.95294118 0.95294118 0.95294118 0.99215686]\n",
      "  [0.95294118 0.95294118 0.95294118 0.99215686 0.95294118 0.95294118\n",
      "   0.95294118 0.99215686 0.95294118 0.95294118 0.95294118 0.99215686\n",
      "   0.95294118 0.95294118 0.95294118 0.99215686 0.95294118 0.95294118\n",
      "   0.95294118 0.99215686 0.95294118 0.95294118 0.95294118 0.99215686\n",
      "   0.90980392 0.90980392 0.90980392 0.99215686]\n",
      "  [0.08627451 0.08627451 0.08627451 1.         0.76862745 0.76862745\n",
      "   0.76862745 0.99215686 0.95294118 0.95294118 0.95294118 0.99215686\n",
      "   0.95294118 0.95294118 0.95294118 0.99215686 0.95294118 0.95294118\n",
      "   0.95294118 0.99215686 0.95294118 0.95294118 0.95294118 0.99215686\n",
      "   0.95294118 0.95294118 0.95294118 0.99215686]\n",
      "  [0.95294118 0.95294118 0.95294118 0.99215686 0.95294118 0.95294118\n",
      "   0.95294118 0.99215686 0.95294118 0.95294118 0.95294118 0.99215686\n",
      "   0.8627451  0.8627451  0.8627451  0.99215686 0.0745098  0.0745098\n",
      "   0.0745098  1.         0.86666667 0.86666667 0.86666667 0.99215686\n",
      "   0.95294118 0.95294118 0.95294118 0.99215686]\n",
      "  [0.95294118 0.95294118 0.95294118 0.99215686 0.95294118 0.95294118\n",
      "   0.95294118 0.99215686 0.95294118 0.95294118 0.95294118 0.99215686\n",
      "   0.95294118 0.95294118 0.95294118 0.99215686 0.95294118 0.95294118\n",
      "   0.95294118 0.99215686 0.95294118 0.95294118 0.95294118 0.99215686\n",
      "   0.95294118 0.95294118 0.95294118 0.99215686]\n",
      "  [0.95294118 0.95294118 0.95294118 0.99215686 0.95294118 0.95294118\n",
      "   0.95294118 0.99215686 0.95294118 0.95294118 0.95294118 0.99215686\n",
      "   0.95294118 0.95294118 0.95294118 0.99215686 0.95294118 0.95294118\n",
      "   0.95294118 0.99215686 0.95294118 0.95294118 0.95294118 0.99215686\n",
      "   0.64705882 0.64705882 0.64705882 0.99607843]\n",
      "  [0.26666667 0.26666667 0.26666667 0.99607843 0.95294118 0.95294118\n",
      "   0.95294118 0.99215686 0.95294118 0.95294118 0.95294118 0.99215686\n",
      "   0.95294118 0.95294118 0.95294118 0.99215686 0.95294118 0.95294118\n",
      "   0.95294118 0.99215686 0.95294118 0.95294118 0.95294118 0.99215686\n",
      "   0.95294118 0.95294118 0.95294118 0.99215686]\n",
      "  [0.95294118 0.95294118 0.95294118 0.99215686 0.95294118 0.95294118\n",
      "   0.95294118 0.99215686 0.95294118 0.95294118 0.95294118 0.99215686\n",
      "   0.40392157 0.40392157 0.40392157 0.99607843 0.39215686 0.39215686\n",
      "   0.39215686 0.99607843 0.95294118 0.95294118 0.95294118 0.99215686\n",
      "   0.95294118 0.95294118 0.95294118 0.99215686]\n",
      "  [0.95294118 0.95294118 0.95294118 0.99215686 0.95294118 0.95294118\n",
      "   0.95294118 0.99215686 0.95294118 0.95294118 0.95294118 0.99215686\n",
      "   0.95294118 0.95294118 0.95294118 0.99215686 0.95294118 0.95294118\n",
      "   0.95294118 0.99215686 0.95294118 0.95294118 0.95294118 0.99215686\n",
      "   0.95294118 0.95294118 0.95294118 0.99215686]]]\n",
      "[5]\n"
     ]
    },
    {
     "data": {
      "image/png": "[encoded data removed]",
      "text/plain": [
       "<Figure size 432x288 with 1 Axes>"
      ]
     },
     "metadata": {
      "needs_background": "light"
     },
     "output_type": "display_data"
    }
   ],
   "source": [
    "from PIL import Image\n",
    "img = Image.open('./bitmap3.png')\n",
    "print('img',img)\n",
    "img.convert(\"L\")\n",
    "# img.\n",
    "print('ate',img)\n",
    "img = np.resize(img, (28,28))\n",
    "im2arr = np.array(img)/255\n",
    "plt.imshow(im2arr)\n",
    "\n",
    "im2arr = im2arr.reshape(1,28,28)\n",
    "print(im2arr)\n",
    "\n",
    "y_pred = savedmodal.predict_classes(im2arr/255)\n",
    "print(y_pred)"
   ]
  },
  {
   "cell_type": "code",
   "execution_count": 44,
   "metadata": {},
   "outputs": [],
   "source": [
    "d = image.ImageDataGenerator().flow(imgArrData)"
   ]
  },
  {
   "cell_type": "code",
   "execution_count": 63,
   "metadata": {},
   "outputs": [
    {
     "data": {
      "text/plain": [
       "array([[0.9529412],\n",
       "       [0.9529412],\n",
       "       [0.9529412],\n",
       "       ...,\n",
       "       [0.9529412],\n",
       "       [0.9529412],\n",
       "       [0.9529412]], dtype=float32)"
      ]
     },
     "execution_count": 63,
     "metadata": {},
     "output_type": "execute_result"
    }
   ],
   "source": [
    "\n",
    "d = imgArrData.reshape(-1,1)\n",
    "d = d/255\n",
    "d"
   ]
  },
  {
   "cell_type": "code",
   "execution_count": 72,
   "metadata": {},
   "outputs": [
    {
     "ename": "AttributeError",
     "evalue": "module 'scipy.ndimage' has no attribute 'read'",
     "output_type": "error",
     "traceback": [
      "\u001b[0;31m---------------------------------------------------------------------------\u001b[0m",
      "\u001b[0;31mAttributeError\u001b[0m                            Traceback (most recent call last)",
      "\u001b[0;32m<ipython-input-72-911251c2ccf0>\u001b[0m in \u001b[0;36m<module>\u001b[0;34m\u001b[0m\n\u001b[1;32m      1\u001b[0m \u001b[0;32mfrom\u001b[0m \u001b[0mscipy\u001b[0m \u001b[0;32mimport\u001b[0m \u001b[0mndimage\u001b[0m\u001b[0;34m\u001b[0m\u001b[0;34m\u001b[0m\u001b[0m\n\u001b[1;32m      2\u001b[0m \u001b[0;34m\u001b[0m\u001b[0m\n\u001b[0;32m----> 3\u001b[0;31m \u001b[0mimg1\u001b[0m \u001b[0;34m=\u001b[0m \u001b[0mnp\u001b[0m\u001b[0;34m.\u001b[0m\u001b[0mexpand_dims\u001b[0m\u001b[0;34m(\u001b[0m\u001b[0mndimage\u001b[0m\u001b[0;34m.\u001b[0m\u001b[0mread\u001b[0m\u001b[0;34m(\u001b[0m\u001b[0;34m'./bitmap.png'\u001b[0m\u001b[0;34m)\u001b[0m\u001b[0;34m,\u001b[0m\u001b[0;36m0\u001b[0m\u001b[0;34m)\u001b[0m\u001b[0;34m\u001b[0m\u001b[0;34m\u001b[0m\u001b[0m\n\u001b[0m\u001b[1;32m      4\u001b[0m \u001b[0mimg1\u001b[0m\u001b[0;34m\u001b[0m\u001b[0;34m\u001b[0m\u001b[0m\n",
      "\u001b[0;31mAttributeError\u001b[0m: module 'scipy.ndimage' has no attribute 'read'"
     ]
    }
   ],
   "source": [
    "from scipy import ndimage\n",
    "\n",
    "img1 = np.expand_dims(ndimage.read('./bitmap.png'),0)\n",
    "img1\n"
   ]
  },
  {
   "cell_type": "code",
   "execution_count": 49,
   "metadata": {},
   "outputs": [],
   "source": [
    "# scaledTrainingData[0]"
   ]
  },
  {
   "cell_type": "code",
   "execution_count": 1,
   "metadata": {},
   "outputs": [
    {
     "ename": "NameError",
     "evalue": "name 'savedmodal' is not defined",
     "output_type": "error",
     "traceback": [
      "\u001b[0;31m---------------------------------------------------------------------------\u001b[0m",
      "\u001b[0;31mNameError\u001b[0m                                 Traceback (most recent call last)",
      "\u001b[0;32m<ipython-input-1-f2876a979cee>\u001b[0m in \u001b[0;36m<module>\u001b[0;34m\u001b[0m\n\u001b[0;32m----> 1\u001b[0;31m \u001b[0mprediction\u001b[0m \u001b[0;34m=\u001b[0m \u001b[0msavedmodal\u001b[0m\u001b[0;34m.\u001b[0m\u001b[0mpredict\u001b[0m\u001b[0;34m(\u001b[0m\u001b[0;34m[\u001b[0m\u001b[0mimg1\u001b[0m\u001b[0;34m]\u001b[0m\u001b[0;34m)\u001b[0m\u001b[0;34m\u001b[0m\u001b[0;34m\u001b[0m\u001b[0m\n\u001b[0m",
      "\u001b[0;31mNameError\u001b[0m: name 'savedmodal' is not defined"
     ]
    }
   ],
   "source": [
    "prediction = savedmodal.predict([img1])"
   ]
  }
 ],
 "metadata": {
  "kernelspec": {
   "display_name": "Python 3",
   "language": "python",
   "name": "python3"
  },
  "language_info": {
   "codemirror_mode": {
    "name": "ipython",
    "version": 3
   },
   "file_extension": ".py",
   "mimetype": "text/x-python",
   "name": "python",
   "nbconvert_exporter": "python",
   "pygments_lexer": "ipython3",
   "version": "3.7.4"
  }
 },
 "nbformat": 4,
 "nbformat_minor": 2
}
