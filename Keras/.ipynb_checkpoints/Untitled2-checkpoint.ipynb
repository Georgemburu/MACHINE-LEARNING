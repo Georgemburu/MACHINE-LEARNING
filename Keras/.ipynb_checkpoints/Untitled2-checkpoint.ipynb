{
 "cells": [
  {
   "cell_type": "code",
   "execution_count": 8,
   "metadata": {},
   "outputs": [],
   "source": [
    "from keras.preprocessing import image\n",
    "import matplotlib.pyplot as plt\n",
    "import numpy as np"
   ]
  },
  {
   "cell_type": "code",
   "execution_count": 9,
   "metadata": {},
   "outputs": [],
   "source": [
    "dig2 = image.load_img('bitmap.png')#\n",
    "dig1 = image.load_img('bitmap2.png')\n",
    "dig8 = image.load_img('bitmap3.png')\n"
   ]
  },
  {
   "cell_type": "code",
   "execution_count": 18,
   "metadata": {},
   "outputs": [],
   "source": [
    "imgArr = [dig2,dig1,dig8]\n",
    "trainData = []\n",
    "for i in range(len(imgArr)):\n",
    "    trainData.append(np.array(imgArr[i])/255)\n",
    "    "
   ]
  },
  {
   "cell_type": "code",
   "execution_count": 20,
   "metadata": {},
   "outputs": [],
   "source": [
    "from keras.models import Sequential\n",
    "from keras.layers import Dense, Flatten"
   ]
  },
  {
   "cell_type": "code",
   "execution_count": 50,
   "metadata": {},
   "outputs": [
    {
     "name": "stdout",
     "output_type": "stream",
     "text": [
      "Model: \"sequential_12\"\n",
      "_________________________________________________________________\n",
      "Layer (type)                 Output Shape              Param #   \n",
      "=================================================================\n",
      "dense_31 (Dense)             (None, 28, 28, 28)        112       \n",
      "_________________________________________________________________\n",
      "flatten_11 (Flatten)         (None, 21952)             0         \n",
      "_________________________________________________________________\n",
      "dense_32 (Dense)             (None, 784)               17211152  \n",
      "_________________________________________________________________\n",
      "dense_33 (Dense)             (None, 3)                 2355      \n",
      "=================================================================\n",
      "Total params: 17,213,619\n",
      "Trainable params: 17,213,619\n",
      "Non-trainable params: 0\n",
      "_________________________________________________________________\n"
     ]
    }
   ],
   "source": [
    "model = Sequential()\n",
    "model.add(Dense(28,input_shape=(28,28,3)))\n",
    "model.add(Flatten())\n",
    "model.add(Dense(784, activation='relu'))\n",
    "model.add(Dense(3, activation='softmax'))\n",
    "model.summary()\n",
    "\n",
    "model.compile('adam',loss='sparse_categorical_crossentropy')"
   ]
  },
  {
   "cell_type": "code",
   "execution_count": 51,
   "metadata": {},
   "outputs": [
    {
     "name": "stdout",
     "output_type": "stream",
     "text": [
      "Epoch 1/3\n",
      "3/3 [==============================] - 13s 4s/step - loss: 0.3801\n",
      "Epoch 2/3\n",
      "3/3 [==============================] - 5s 2s/step - loss: 0.0000e+00\n",
      "Epoch 3/3\n",
      "3/3 [==============================] - 5s 2s/step - loss: 0.0000e+00\n"
     ]
    }
   ],
   "source": [
    "p = model.fit([trainData],[0.2,0.1,0.8],epochs=3,batch_size=1)"
   ]
  },
  {
   "cell_type": "code",
   "execution_count": 54,
   "metadata": {},
   "outputs": [],
   "source": [
    "pred = model.predict([[trainData[1]]])"
   ]
  },
  {
   "cell_type": "code",
   "execution_count": 55,
   "metadata": {},
   "outputs": [
    {
     "data": {
      "text/plain": [
       "Text(0.5, 1.0, 'prediction=>[[1. 0. 0.]]')"
      ]
     },
     "execution_count": 55,
     "metadata": {},
     "output_type": "execute_result"
    },
    {
     "data": {
      "image/png": "[encoded data removed]",
      "text/plain": [
       "<Figure size 432x288 with 1 Axes>"
      ]
     },
     "metadata": {
      "needs_background": "light"
     },
     "output_type": "display_data"
    }
   ],
   "source": [
    "plt.imshow(trainData[1])\n",
    "plt.title('prediction=>'+str(pred))"
   ]
  }
 ],
 "metadata": {
  "kernelspec": {
   "display_name": "Python 3",
   "language": "python",
   "name": "python3"
  },
  "language_info": {
   "codemirror_mode": {
    "name": "ipython",
    "version": 3
   },
   "file_extension": ".py",
   "mimetype": "text/x-python",
   "name": "python",
   "nbconvert_exporter": "python",
   "pygments_lexer": "ipython3",
   "version": "3.7.4"
  }
 },
 "nbformat": 4,
 "nbformat_minor": 2
}
