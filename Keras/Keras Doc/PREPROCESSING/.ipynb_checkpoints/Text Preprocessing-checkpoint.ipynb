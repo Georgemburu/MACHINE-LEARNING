{
 "cells": [
  {
   "cell_type": "code",
   "execution_count": null,
   "metadata": {},
   "outputs": [],
   "source": [
    "# 1. Tokenizer\n",
    "keras.preprocessing.text.Tokenizer(\n",
    "    num_words=None,\n",
    "    filters='!\"#$%&()*+,-./:;<=>@[\\\\]^_`{|}~\\t\\n',\n",
    "    lower=True,\n",
    "    split=' ',\n",
    "    char_level=False,\n",
    "    oov_token=None,\n",
    "    document_count=0\n",
    "    )\n",
    "## -> allows to vector a text corpus, by turning each text into either\n",
    "## -> a sequence of intergers (each interger being the index of a token\n",
    "## => in a dictionary) or into a vector where the coefficient for each\n",
    "## -> token could be binary, based on word count, based on tf-idf..."
   ]
  },
  {
   "cell_type": "code",
   "execution_count": null,
   "metadata": {},
   "outputs": [],
   "source": [
    "# 2. Hashing_trick\n",
    "keras.preprocessing.text.hashing_trick(\n",
    "    text,\n",
    "    n,\n",
    "    hash_function=None,\n",
    "    filters='!\"#$%&()*+,-./:;<=>@[\\\\]^_`{|}~\\t\\n',\n",
    "    lower=True,\n",
    "    split=' '\n",
    "    )\n"
   ]
  },
  {
   "cell_type": "code",
   "execution_count": null,
   "metadata": {},
   "outputs": [],
   "source": [
    "# 3. One_hot\n",
    "keras.preprocessing.text.one_hot(\n",
    "    text,\n",
    "    n,\n",
    "    filters='!\"#$%&()*+,-./:;<=>@[\\\\]^_`{|}~\\t\\n',\n",
    "    lower=True,\n",
    "    split=' '\n",
    "    )\n",
    "## -> is a wrapper to the (hashing_trick) function using (hash) as the \n",
    "## -> hashing function; unicity of word to index mapping non-guaranteed\n",
    "## -> Encodes a text into a list of word indexes of size n."
   ]
  },
  {
   "cell_type": "code",
   "execution_count": null,
   "metadata": {},
   "outputs": [],
   "source": [
    "# 4. Text_to_word_sequence\n",
    "keras.preprocessing.text.text_to_word_sequence(\n",
    "    text,\n",
    "    filters='!\"#$%&()*+,-./:;<=>@[\\\\]^_`{|}~\\t\\n',\n",
    "    lower=True,\n",
    "    split=' '\n",
    "    )\n",
    "## -> converts a text to sequence of words (or tokens)"
   ]
  },
  {
   "cell_type": "code",
   "execution_count": 3,
   "metadata": {},
   "outputs": [
    {
     "data": {
      "text/plain": [
       "['hello', 'world']"
      ]
     },
     "execution_count": 3,
     "metadata": {},
     "output_type": "execute_result"
    }
   ],
   "source": [
    "import keras\n",
    "keras.preprocessing.text.text_to_word_sequence(\n",
    "'Hello world'\n",
    ")"
   ]
  }
 ],
 "metadata": {
  "kernelspec": {
   "display_name": "Python 3",
   "language": "python",
   "name": "python3"
  },
  "language_info": {
   "codemirror_mode": {
    "name": "ipython",
    "version": 3
   },
   "file_extension": ".py",
   "mimetype": "text/x-python",
   "name": "python",
   "nbconvert_exporter": "python",
   "pygments_lexer": "ipython3",
   "version": "3.7.4"
  }
 },
 "nbformat": 4,
 "nbformat_minor": 2
}
