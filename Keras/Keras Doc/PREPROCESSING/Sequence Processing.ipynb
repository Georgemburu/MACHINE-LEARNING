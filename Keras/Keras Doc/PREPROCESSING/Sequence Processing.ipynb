{
 "cells": [
  {
   "cell_type": "markdown",
   "metadata": {},
   "source": [
    "# 1. TIME SERIES GENERATOR\n",
    "\n",
    "## -> utility class for generating batches of temporal data.\n",
    "keras.preprocessing.sequence.TimeseriesGenerator(\n",
    "    data,\n",
    "    targets,\n",
    "    length,\n",
    "    sampling_rate=1,\n",
    "    stride=1,\n",
    "    start_index=0,\n",
    "    end_index=None,\n",
    "    shuffle=False,\n",
    "    reverse=False,\n",
    "    batch_size=128\n",
    ")\n",
    "\n",
    "\n"
   ]
  },
  {
   "cell_type": "code",
   "execution_count": 4,
   "metadata": {},
   "outputs": [
    {
     "name": "stdout",
     "output_type": "stream",
     "text": [
      "data [[ 0]\n",
      " [ 1]\n",
      " [ 2]\n",
      " [ 3]\n",
      " [ 4]\n",
      " [ 5]\n",
      " [ 6]\n",
      " [ 7]\n",
      " [ 8]\n",
      " [ 9]\n",
      " [10]\n",
      " [11]\n",
      " [12]\n",
      " [13]\n",
      " [14]\n",
      " [15]\n",
      " [16]\n",
      " [17]\n",
      " [18]\n",
      " [19]\n",
      " [20]\n",
      " [21]\n",
      " [22]\n",
      " [23]\n",
      " [24]\n",
      " [25]\n",
      " [26]\n",
      " [27]\n",
      " [28]\n",
      " [29]\n",
      " [30]\n",
      " [31]\n",
      " [32]\n",
      " [33]\n",
      " [34]\n",
      " [35]\n",
      " [36]\n",
      " [37]\n",
      " [38]\n",
      " [39]\n",
      " [40]\n",
      " [41]\n",
      " [42]\n",
      " [43]\n",
      " [44]\n",
      " [45]\n",
      " [46]\n",
      " [47]\n",
      " [48]\n",
      " [49]]\n",
      "targt [[ 0]\n",
      " [ 1]\n",
      " [ 2]\n",
      " [ 3]\n",
      " [ 4]\n",
      " [ 5]\n",
      " [ 6]\n",
      " [ 7]\n",
      " [ 8]\n",
      " [ 9]\n",
      " [10]\n",
      " [11]\n",
      " [12]\n",
      " [13]\n",
      " [14]\n",
      " [15]\n",
      " [16]\n",
      " [17]\n",
      " [18]\n",
      " [19]\n",
      " [20]\n",
      " [21]\n",
      " [22]\n",
      " [23]\n",
      " [24]\n",
      " [25]\n",
      " [26]\n",
      " [27]\n",
      " [28]\n",
      " [29]\n",
      " [30]\n",
      " [31]\n",
      " [32]\n",
      " [33]\n",
      " [34]\n",
      " [35]\n",
      " [36]\n",
      " [37]\n",
      " [38]\n",
      " [39]\n",
      " [40]\n",
      " [41]\n",
      " [42]\n",
      " [43]\n",
      " [44]\n",
      " [45]\n",
      " [46]\n",
      " [47]\n",
      " [48]\n",
      " [49]]\n",
      "data_gen <keras.preprocessing.sequence.TimeseriesGenerator object at 0x7fd11fd06150>\n",
      "batch_0 (array([[[0],\n",
      "        [2],\n",
      "        [4],\n",
      "        [6],\n",
      "        [8]],\n",
      "\n",
      "       [[1],\n",
      "        [3],\n",
      "        [5],\n",
      "        [7],\n",
      "        [9]]]), array([[10],\n",
      "       [11]]))\n",
      "####################\n",
      "batch_1 (array([[[ 2],\n",
      "        [ 4],\n",
      "        [ 6],\n",
      "        [ 8],\n",
      "        [10]],\n",
      "\n",
      "       [[ 3],\n",
      "        [ 5],\n",
      "        [ 7],\n",
      "        [ 9],\n",
      "        [11]]]), array([[12],\n",
      "       [13]]))\n"
     ]
    }
   ],
   "source": [
    "# EXAMPLE\n",
    "from keras.preprocessing.sequence import TimeseriesGenerator\n",
    "import numpy as np\n",
    "\n",
    "data = np.array([[i] for i in range(50)])\n",
    "targets = np.array([[i] for i in range(50)])\n",
    "print('data',data)\n",
    "print('targt',targets)\n",
    "data_gen = TimeseriesGenerator(data,targets,length=10,\n",
    "                              sampling_rate=2,\n",
    "                              batch_size=2)\n",
    "assert len(data_gen)==20\n",
    "print('data_gen',data_gen)\n",
    "batch_0 = data_gen[0]\n",
    "print('batch_0',batch_0)\n",
    "print(20*'#')\n",
    "print('batch_1',data_gen[1])\n",
    "x,y = batch_0\n",
    "\n",
    "assert np.array_equal(x,\n",
    "                     np.array([[[0],[2],[4],[6],[8]],\n",
    "                             [[1],[3],[5],[7],[9]]]))\n",
    "assert np.array_equal(y,\n",
    "                     np.array([[10],[11]]))"
   ]
  },
  {
   "cell_type": "markdown",
   "metadata": {},
   "source": [
    "# 2. PAD_SEQUENCE\n",
    "## -> transforms a list of num_samples sequences(list of intergers) into\n",
    "## -> a 2D Numpy array of shape (num_samples, num_timesteps)\n",
    "## -> (num_timesteps) is either the (maxlen) argument if provided, or\n",
    "## -> the length of the longest sequence otherwise\n",
    "\n",
    "\n",
    "keras.preprocessing.sequence.pad_sequences(\n",
    "    sequences,\n",
    "    maxlen=None,\n",
    "    dtype='int32',\n",
    "    padding='pre',\n",
    "    truncating='pre',\n",
    "    value=0.0\n",
    ")"
   ]
  },
  {
   "cell_type": "markdown",
   "metadata": {},
   "source": [
    "# 3. SKIPGRAMS\n",
    "## ->Transforms a sequence of word indexes (list of intergers) into \n",
    "## -> turples of words of the form\n",
    "\n",
    "keras.preprocessing.sequence.skipgrams(\n",
    "    sequence,\n",
    "    vocabulary_size,\n",
    "    window_size=4,\n",
    "    negative_samples=1.0,\n",
    "    shuffle=True,\n",
    "    categorical=False,\n",
    "    sampling_table=None,\n",
    "    seed=None\n",
    ")"
   ]
  },
  {
   "cell_type": "markdown",
   "metadata": {},
   "source": [
    "# 4. Make_sampling_table\n",
    "## -> used for generating the (sampling_table) argument for (skipgrams)\n",
    "## -> (sampling_table[i]) is the probability of sampling the word i-th\n",
    "## -> most common word in a dataset (more common words should be sampled less \n",
    "## frequently, for balance).\n",
    "\n",
    "keras.preprocessing.sequence.make_sampling_table(\n",
    "    size,\n",
    "    sampling_factor=1e-05\n",
    "    )"
   ]
  },
  {
   "cell_type": "code",
   "execution_count": 7,
   "metadata": {},
   "outputs": [
    {
     "ename": "SyntaxError",
     "evalue": "invalid syntax (<ipython-input-7-ddc7b8629672>, line 6)",
     "output_type": "error",
     "traceback": [
      "\u001b[0;36m  File \u001b[0;32m\"<ipython-input-7-ddc7b8629672>\"\u001b[0;36m, line \u001b[0;32m6\u001b[0m\n\u001b[0;31m    frquency(rank) ~1/(rank * (log(rank) + gamma) + 1/2 - 1/(12*rank))\u001b[0m\n\u001b[0m                   ^\u001b[0m\n\u001b[0;31mSyntaxError\u001b[0m\u001b[0;31m:\u001b[0m invalid syntax\n"
     ]
    }
   ],
   "source": [
    "# example\n",
    "p(word) = (min(1, sqrt(word_frquency / sampling_factor) / \n",
    "              (word_frequency / sampling_factor)))\n",
    "\n",
    "frquency(rank) ~1/(rank * (log(rank) + gamma) + 1/2 - 1/(12*rank)) \n",
    "#where (gamma) is the Euler-Masheoni constant"
   ]
  },
  {
   "cell_type": "code",
   "execution_count": null,
   "metadata": {},
   "outputs": [],
   "source": []
  },
  {
   "cell_type": "code",
   "execution_count": null,
   "metadata": {},
   "outputs": [],
   "source": []
  },
  {
   "cell_type": "code",
   "execution_count": null,
   "metadata": {},
   "outputs": [],
   "source": []
  },
  {
   "cell_type": "code",
   "execution_count": null,
   "metadata": {},
   "outputs": [],
   "source": []
  },
  {
   "cell_type": "code",
   "execution_count": null,
   "metadata": {},
   "outputs": [],
   "source": []
  },
  {
   "cell_type": "code",
   "execution_count": null,
   "metadata": {},
   "outputs": [],
   "source": []
  },
  {
   "cell_type": "code",
   "execution_count": null,
   "metadata": {},
   "outputs": [],
   "source": []
  },
  {
   "cell_type": "code",
   "execution_count": null,
   "metadata": {},
   "outputs": [],
   "source": []
  },
  {
   "cell_type": "code",
   "execution_count": null,
   "metadata": {},
   "outputs": [],
   "source": []
  },
  {
   "cell_type": "code",
   "execution_count": null,
   "metadata": {},
   "outputs": [],
   "source": []
  },
  {
   "cell_type": "code",
   "execution_count": null,
   "metadata": {},
   "outputs": [],
   "source": []
  },
  {
   "cell_type": "code",
   "execution_count": null,
   "metadata": {},
   "outputs": [],
   "source": []
  },
  {
   "cell_type": "code",
   "execution_count": null,
   "metadata": {},
   "outputs": [],
   "source": []
  },
  {
   "cell_type": "code",
   "execution_count": null,
   "metadata": {},
   "outputs": [],
   "source": []
  },
  {
   "cell_type": "code",
   "execution_count": null,
   "metadata": {},
   "outputs": [],
   "source": []
  },
  {
   "cell_type": "code",
   "execution_count": null,
   "metadata": {},
   "outputs": [],
   "source": []
  },
  {
   "cell_type": "code",
   "execution_count": null,
   "metadata": {},
   "outputs": [],
   "source": []
  },
  {
   "cell_type": "code",
   "execution_count": null,
   "metadata": {},
   "outputs": [],
   "source": []
  },
  {
   "cell_type": "code",
   "execution_count": null,
   "metadata": {},
   "outputs": [],
   "source": []
  },
  {
   "cell_type": "code",
   "execution_count": null,
   "metadata": {},
   "outputs": [],
   "source": []
  },
  {
   "cell_type": "code",
   "execution_count": null,
   "metadata": {},
   "outputs": [],
   "source": []
  },
  {
   "cell_type": "code",
   "execution_count": null,
   "metadata": {},
   "outputs": [],
   "source": []
  }
 ],
 "metadata": {
  "kernelspec": {
   "display_name": "Python 3",
   "language": "python",
   "name": "python3"
  },
  "language_info": {
   "codemirror_mode": {
    "name": "ipython",
    "version": 3
   },
   "file_extension": ".py",
   "mimetype": "text/x-python",
   "name": "python",
   "nbconvert_exporter": "python",
   "pygments_lexer": "ipython3",
   "version": "3.7.4"
  }
 },
 "nbformat": 4,
 "nbformat_minor": 2
}
