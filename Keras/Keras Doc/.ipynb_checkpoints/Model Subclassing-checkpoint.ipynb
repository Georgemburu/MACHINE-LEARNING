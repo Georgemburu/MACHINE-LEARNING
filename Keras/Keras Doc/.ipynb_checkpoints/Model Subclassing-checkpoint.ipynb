{
 "cells": [
  {
   "cell_type": "markdown",
   "metadata": {},
   "source": [
    "# Simple Multilayer Perceptron"
   ]
  },
  {
   "cell_type": "code",
   "execution_count": null,
   "metadata": {},
   "outputs": [],
   "source": [
    "import keras\n",
    "\n",
    "class SimpleMLP(keras.Model):\n",
    "    def __init__(self, use_bn=False, use_dp=False, num_classes=10):\n",
    "        super(SimpleMLP, self).__init__(name='mlp')\n",
    "        self.use_bn = use_bn\n",
    "        self.use_dp = use_dp\n",
    "        self.num_classes = num_classes\n",
    "        \n",
    "        self.dense1 = keras.layers.Dense(32, activation='relu')\n",
    "        self.dense2 = keras.layers.Dense(num_classes,activation='softmax')\n",
    "        if self.use_dp:\n",
    "            self.dp = keras.layers.Dropout(0.5)\n",
    "        if self.use_bn:\n",
    "            self.bn = keras.layers.BatchNormalization(axis=-1)\n",
    "            \n",
    "    def call(self, inputs):\n",
    "        x = self.dense1(inputs)\n",
    "        if self.use_dp:\n",
    "            x = self.dp(x)\n",
    "        if self.use_bn:\n",
    "            x = self.bn(x)\n",
    "        return self.dense2(x)\n",
    "    \n",
    "\n",
    "model = SimpleMLP()\n",
    "model.compile(...)\n",
    "model.fit(...)"
   ]
  }
 ],
 "metadata": {
  "kernelspec": {
   "display_name": "Python 3",
   "language": "python",
   "name": "python3"
  },
  "language_info": {
   "codemirror_mode": {
    "name": "ipython",
    "version": 3
   },
   "file_extension": ".py",
   "mimetype": "text/x-python",
   "name": "python",
   "nbconvert_exporter": "python",
   "pygments_lexer": "ipython3",
   "version": "3.7.4"
  }
 },
 "nbformat": 4,
 "nbformat_minor": 2
}
