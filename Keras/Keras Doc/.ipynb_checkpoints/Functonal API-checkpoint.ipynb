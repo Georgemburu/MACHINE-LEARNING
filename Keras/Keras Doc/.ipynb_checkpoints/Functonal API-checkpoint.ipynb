{
 "cells": [
  {
   "cell_type": "code",
   "execution_count": 4,
   "metadata": {},
   "outputs": [],
   "source": [
    "from keras.layers import Input, Dense\n",
    "from keras.models import Model\n",
    "from statistics import mean"
   ]
  },
  {
   "cell_type": "code",
   "execution_count": 8,
   "metadata": {},
   "outputs": [],
   "source": [
    "# returns a tensor\n",
    "inputs = Input(shape=(784,))\n",
    "\n",
    "# a layer instanse is callable on a tensor and returns a tensor\n",
    "output1 = Dense(64,activation='relu')(inputs)\n",
    "output2 = Dense(64,activation='relu')(output1)\n",
    "prediction = Dense(10,activation='softmax')(output2)\n",
    "\n",
    "\n",
    "#this creates a model that includes\n",
    "# the Input layer and three Dense Layers\n",
    "model = Model(inputs=inputs,outputs=prediction)\n",
    "model.compile(optimizer='rmsprop',loss='categorical_crossentropy',\n",
    "             metrics=['accuracy'])\n",
    "# start training\n",
    "model.fit(data,labels)"
   ]
  }
 ],
 "metadata": {
  "kernelspec": {
   "display_name": "Python 3",
   "language": "python",
   "name": "python3"
  },
  "language_info": {
   "codemirror_mode": {
    "name": "ipython",
    "version": 3
   },
   "file_extension": ".py",
   "mimetype": "text/x-python",
   "name": "python",
   "nbconvert_exporter": "python",
   "pygments_lexer": "ipython3",
   "version": "3.7.4"
  }
 },
 "nbformat": 4,
 "nbformat_minor": 2
}
