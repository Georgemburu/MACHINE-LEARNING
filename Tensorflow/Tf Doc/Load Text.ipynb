{
 "cells": [
  {
   "cell_type": "code",
   "execution_count": 3,
   "metadata": {},
   "outputs": [],
   "source": [
    "# how to use (tf.data.TextLineDataset) to load examples from \n",
    "# text files\n",
    "#=> Its designed to create a dataset from a text file,\n",
    "# in which each example is a line of text from the original \n",
    "# file\n",
    "# => Is potentialy useful for any text data that is primarily \n",
    "# line-based (eg, poetry or error logs)\n",
    "\n",
    "#=> HYPOTHESIS here\n",
    "#> We'll use three different English translations of the same\n",
    "# work, Homer's llliad, and train a model to identify the \n",
    "# translator given a single line of text\n"
   ]
  },
  {
   "cell_type": "code",
   "execution_count": 4,
   "metadata": {},
   "outputs": [],
   "source": [
    "# Setup\n",
    "from __future__ import absolute_import, division, print_function, unicode_literals\n",
    "\n",
    "import tensorflow as tf\n",
    "import tensorflow_datasets as tfds\n",
    "import os\n",
    "tf.enable_eager_execution()"
   ]
  },
  {
   "cell_type": "code",
   "execution_count": 5,
   "metadata": {},
   "outputs": [
    {
     "data": {
      "text/plain": [
       "'/home/george/.keras/datasets'"
      ]
     },
     "execution_count": 5,
     "metadata": {},
     "output_type": "execute_result"
    }
   ],
   "source": [
    "DIRECTORY_URL = 'https://storage.googleapis.com/download.tensorflow.org/data/illiad/'\n",
    "FILE_NAMES = ['cowper.txt','derby.txt','butler.txt']\n",
    "\n",
    "for name in FILE_NAMES:\n",
    "    text_dir = tf.keras.utils.get_file(name, origin=DIRECTORY_URL+name)\n",
    "    \n",
    "parent_dir = os.path.dirname(text_dir)\n",
    "parent_dir"
   ]
  },
  {
   "cell_type": "code",
   "execution_count": 6,
   "metadata": {},
   "outputs": [
    {
     "name": "stdout",
     "output_type": "stream",
     "text": [
      "lines_dataset <TextLineDatasetV1 shapes: (), types: tf.string>\n",
      "labeled_dataset <DatasetV1Adapter shapes: ((), ()), types: (tf.string, tf.int64)>\n",
      "lines_dataset <TextLineDatasetV1 shapes: (), types: tf.string>\n",
      "labeled_dataset <DatasetV1Adapter shapes: ((), ()), types: (tf.string, tf.int64)>\n",
      "lines_dataset <TextLineDatasetV1 shapes: (), types: tf.string>\n",
      "labeled_dataset <DatasetV1Adapter shapes: ((), ()), types: (tf.string, tf.int64)>\n",
      "##################################################\n",
      "[<DatasetV1Adapter shapes: ((), ()), types: (tf.string, tf.int64)>, <DatasetV1Adapter shapes: ((), ()), types: (tf.string, tf.int64)>, <DatasetV1Adapter shapes: ((), ()), types: (tf.string, tf.int64)>]\n"
     ]
    }
   ],
   "source": [
    "# Load text into datasets\n",
    "# Iter through the files, loading each one into its own dataset\n",
    "def labeler(example, index):\n",
    "    return example, tf.cast(index, tf.int64)\n",
    "\n",
    "labeled_data_sets = []\n",
    "for i, file_name in enumerate(FILE_NAMES):\n",
    "    lines_dataset = tf.data.TextLineDataset(os.path.join(parent_dir,file_name))\n",
    "    print('lines_dataset',lines_dataset)\n",
    "    labeled_dataset = lines_dataset.map(lambda ex: labeler(ex,i))\n",
    "    print('labeled_dataset',labeled_dataset)\n",
    "    labeled_data_sets.append(labeled_dataset)\n",
    "\n",
    "print('#'*50)\n",
    "print(labeled_data_sets)"
   ]
  },
  {
   "cell_type": "code",
   "execution_count": 7,
   "metadata": {},
   "outputs": [],
   "source": [
    "# Combine these labeled datasets into a single dataset and \n",
    "# shuffle it\n",
    "BUFFER_SIZE = 50000\n",
    "BATCH_SIZE = 64\n",
    "TAKE_SIZE = 5000"
   ]
  },
  {
   "cell_type": "code",
   "execution_count": 8,
   "metadata": {},
   "outputs": [
    {
     "name": "stdout",
     "output_type": "stream",
     "text": [
      "all_labeled_data0 <DatasetV1Adapter shapes: ((), ()), types: (tf.string, tf.int64)>\n",
      "all_labeled_data1 <DatasetV1Adapter shapes: ((), ()), types: (tf.string, tf.int64)>\n",
      "all_labeled_data1 <DatasetV1Adapter shapes: ((), ()), types: (tf.string, tf.int64)>\n"
     ]
    }
   ],
   "source": [
    "all_labeled_data = labeled_data_sets[0]\n",
    "print('all_labeled_data0',all_labeled_data)\n",
    "for labeled_dataset in labeled_data_sets[1:]:\n",
    "    all_labeled_data = all_labeled_data.concatenate(labeled_dataset)\n",
    "    print('all_labeled_data1',all_labeled_data)\n",
    "    \n",
    "all_labeled_data = all_labeled_data.shuffle(\n",
    "    BUFFER_SIZE,\n",
    "    reshuffle_each_iteration=False\n",
    ")"
   ]
  },
  {
   "cell_type": "code",
   "execution_count": 9,
   "metadata": {},
   "outputs": [
    {
     "name": "stdout",
     "output_type": "stream",
     "text": [
      "(<tf.Tensor: id=74, shape=(), dtype=string, numpy=b'There issued flames of fiercely-burning fire:'>, <tf.Tensor: id=75, shape=(), dtype=int64, numpy=1>)\n",
      "(<tf.Tensor: id=78, shape=(), dtype=string, numpy=b'Sarpedon. Juno and Minerva descend to resist Mars; the latter incites'>, <tf.Tensor: id=79, shape=(), dtype=int64, numpy=1>)\n",
      "(<tf.Tensor: id=82, shape=(), dtype=string, numpy=b'of the Danaans. If all-seeing Jove will not send you this messenger,'>, <tf.Tensor: id=83, shape=(), dtype=int64, numpy=2>)\n",
      "(<tf.Tensor: id=86, shape=(), dtype=string, numpy=b'In thy own field, at thy own fragrant shrine.'>, <tf.Tensor: id=87, shape=(), dtype=int64, numpy=0>)\n",
      "(<tf.Tensor: id=90, shape=(), dtype=string, numpy=b'The son of Atreus, and Meriones,'>, <tf.Tensor: id=91, shape=(), dtype=int64, numpy=1>)\n"
     ]
    }
   ],
   "source": [
    "# you can use (tf.data.Dataset.take) and print to see  what \n",
    "# the (example, label) pairs look like. The (numpy) \n",
    "# property shows each Tensor's value\n",
    "\n",
    "for ex in all_labeled_data.take(5):\n",
    "    print(ex)"
   ]
  },
  {
   "cell_type": "code",
   "execution_count": 10,
   "metadata": {},
   "outputs": [
    {
     "data": {
      "text/plain": [
       "17178"
      ]
     },
     "execution_count": 10,
     "metadata": {},
     "output_type": "execute_result"
    }
   ],
   "source": [
    "# Encode text lines as numbers\n",
    "#. Build a vocabulary\n",
    "tokenizer = tfds.features.text.Tokenizer()\n",
    "\n",
    "vocabulary_set = set()\n",
    "for text_tensor, _ in all_labeled_data:\n",
    "    some_tokens = tokenizer.tokenize(text_tensor.numpy())\n",
    "    vocabulary_set.update(some_tokens)\n",
    "    \n",
    "vocab_size = len(vocabulary_set)\n",
    "vocab_size"
   ]
  },
  {
   "cell_type": "code",
   "execution_count": 20,
   "metadata": {},
   "outputs": [],
   "source": [
    "# vocabulary_set"
   ]
  },
  {
   "cell_type": "code",
   "execution_count": 18,
   "metadata": {},
   "outputs": [
    {
     "data": {
      "text/plain": [
       "<TokenTextEncoder vocab_size=17180>"
      ]
     },
     "execution_count": 18,
     "metadata": {},
     "output_type": "execute_result"
    }
   ],
   "source": [
    "# Encode examples\n",
    "# create an encoder by passing the vocabulary_set to \n",
    "# tfds.features.test.TokenTextEncoder.\n",
    "# The encoder's (encode) method takes in a string of text \n",
    "# and returns a list of intergers.\n",
    "\n",
    "encoder = tfds.features.text.TokenTextEncoder(vocabulary_set)\n",
    "encoder"
   ]
  },
  {
   "cell_type": "code",
   "execution_count": 16,
   "metadata": {},
   "outputs": [
    {
     "name": "stdout",
     "output_type": "stream",
     "text": [
      "b'There issued flames of fiercely-burning fire:'\n"
     ]
    }
   ],
   "source": [
    "# Try this on a single line to see what the output looks\n",
    "# like\n",
    "example_text = next(iter(all_labeled_data))[0].numpy()\n",
    "print(example_text)"
   ]
  },
  {
   "cell_type": "code",
   "execution_count": 17,
   "metadata": {},
   "outputs": [
    {
     "name": "stdout",
     "output_type": "stream",
     "text": [
      "[5953, 4677, 8205, 16481, 12197, 9924, 7045]\n"
     ]
    }
   ],
   "source": [
    "encoded_example = encoder.encode(example_text)\n",
    "print(encoded_example)"
   ]
  },
  {
   "cell_type": "code",
   "execution_count": 21,
   "metadata": {},
   "outputs": [
    {
     "data": {
      "text/plain": [
       "<DatasetV1Adapter shapes: (<unknown>, <unknown>), types: (tf.int64, tf.int64)>"
      ]
     },
     "execution_count": 21,
     "metadata": {},
     "output_type": "execute_result"
    }
   ],
   "source": [
    "# now run the encoder on the dataset by wrapping it in \n",
    "# (tf.py_function) and passing that to the dataset's (map)\n",
    "# method\n",
    "def encode(text_tensor, label):\n",
    "    encoded_text = encoder.encode(text_tensor.numpy())\n",
    "    return encoded_text, label\n",
    "def encode_map_fn(text, label):\n",
    "    return tf.py_function(\n",
    "        encode,\n",
    "        inp=[text,label],\n",
    "        Tout=(tf.int64, tf.int64)\n",
    "    )\n",
    "\n",
    "all_encoded_data = all_labeled_data.map(encode_map_fn)\n",
    "all_encoded_data"
   ]
  },
  {
   "cell_type": "code",
   "execution_count": 23,
   "metadata": {},
   "outputs": [],
   "source": [
    "# Split the data into train and test batches\n",
    "# Use (tf.data.Dataset.take) and (tf.data.Dataset.skip)\n",
    "# to create a small test dataset and a larger training set\n",
    "# To pad the sentenses/words to same length use\n",
    "# (tf.data.Dataset.padded_batch)\n",
    "\n",
    "train_data = all_encoded_data.skip(TAKE_SIZE).shuffle(BUFFER_SIZE)\n",
    "train_data = train_data.padded_batch(\n",
    "    BATCH_SIZE,\n",
    "    padded_shapes=([-1],[])\n",
    ")\n",
    "test_data = all_encoded_data.take(TAKE_SIZE)\n",
    "test_data = test_data.padded_batch(\n",
    "    BATCH_SIZE,\n",
    "    padded_shapes=([-1],[])\n",
    ")"
   ]
  },
  {
   "cell_type": "code",
   "execution_count": 24,
   "metadata": {},
   "outputs": [
    {
     "name": "stdout",
     "output_type": "stream",
     "text": [
      "WARNING:tensorflow:The dtype of the watched tensor must be floating (e.g. tf.float32), got tf.string\n",
      "WARNING:tensorflow:The dtype of the watched tensor must be floating (e.g. tf.float32), got tf.int64\n",
      "WARNING:tensorflow:The dtype of the watched tensor must be floating (e.g. tf.float32), got tf.string\n",
      "WARNING:tensorflow:The dtype of the watched tensor must be floating (e.g. tf.float32), got tf.int64\n",
      "WARNING:tensorflow:The dtype of the watched tensor must be floating (e.g. tf.float32), got tf.string\n"
     ]
    },
    {
     "data": {
      "text/plain": [
       "(<tf.Tensor: id=149246, shape=(16,), dtype=int64, numpy=\n",
       " array([ 5953,  4677,  8205, 16481, 12197,  9924,  7045,     0,     0,\n",
       "            0,     0,     0,     0,     0,     0,     0])>,\n",
       " <tf.Tensor: id=149250, shape=(), dtype=int64, numpy=1>)"
      ]
     },
     "execution_count": 24,
     "metadata": {},
     "output_type": "execute_result"
    }
   ],
   "source": [
    "sample_text, sample_labels = next(iter(test_data))\n",
    "sample_text[0], sample_labels[0]"
   ]
  },
  {
   "cell_type": "code",
   "execution_count": 25,
   "metadata": {},
   "outputs": [],
   "source": [
    "# Since we have introduced a new token encoding \n",
    "# (the zero used for padding), the vocabulary \n",
    "# size has increased by one\n",
    "vocab_size +=1"
   ]
  },
  {
   "cell_type": "code",
   "execution_count": 26,
   "metadata": {},
   "outputs": [],
   "source": [
    "# BUILD THE MODEL\n",
    "model = tf.keras.Sequential()\n",
    "model.add(tf.keras.layers.Embedding(vocab_size, 64))\n",
    "model.add(tf.keras.layers.Bidirectional(tf.keras.layers.LSTM(64)))\n",
    "\n",
    "# One or more dense layers\n",
    "# Edit the list int the `for` line to experiment with layer\n",
    "# sizes\n",
    "for units in [64,64]:\n",
    "    model.add(tf.keras.layers.Dense(units, activation='relu'))\n",
    "    \n",
    "# Output layer. The first argument is the number of labels\n",
    "model.add(tf.keras.layers.Dense(3, activation='softmax'))\n",
    "\n",
    "model.compile(\n",
    "    optimizer='adam',\n",
    "    loss='sparse_categorical_crossentropy',\n",
    "    metrics=['accuracy']\n",
    ")"
   ]
  },
  {
   "cell_type": "code",
   "execution_count": null,
   "metadata": {},
   "outputs": [
    {
     "name": "stdout",
     "output_type": "stream",
     "text": [
      "Epoch 1/3\n"
     ]
    }
   ],
   "source": [
    "# TRAIN THE MODEL\n",
    "model.fit(train_data, epochs=3, validation_data=test_data)"
   ]
  },
  {
   "cell_type": "code",
   "execution_count": null,
   "metadata": {},
   "outputs": [],
   "source": [
    "# evaluate\n",
    "eval_loss, eval_acc = model.evaluate(test_data)\n",
    "print('\\nEval loss: {:.3f}, Eval accuracy: {:.3f}'.format(\n",
    "    eval_loss,\n",
    "    eval_acc\n",
    "))"
   ]
  }
 ],
 "metadata": {
  "kernelspec": {
   "display_name": "Python 3",
   "language": "python",
   "name": "python3"
  },
  "language_info": {
   "codemirror_mode": {
    "name": "ipython",
    "version": 3
   },
   "file_extension": ".py",
   "mimetype": "text/x-python",
   "name": "python",
   "nbconvert_exporter": "python",
   "pygments_lexer": "ipython3",
   "version": "3.7.4"
  }
 },
 "nbformat": 4,
 "nbformat_minor": 2
}
