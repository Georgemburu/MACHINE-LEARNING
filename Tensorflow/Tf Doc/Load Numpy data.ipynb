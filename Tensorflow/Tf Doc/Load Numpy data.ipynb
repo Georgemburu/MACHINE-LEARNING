{
 "cells": [
  {
   "cell_type": "code",
   "execution_count": null,
   "metadata": {},
   "outputs": [],
   "source": [
    "# example of loading data from NumPy arrays into a \n",
    "# (tf.data.Dataset)\n",
    "# MNIST np data"
   ]
  },
  {
   "cell_type": "code",
   "execution_count": 2,
   "metadata": {},
   "outputs": [],
   "source": [
    "from __future__ import absolute_import, division, print_function, unicode_literals\n",
    "\n",
    "import numpy as np\n",
    "import tensorflow as tf"
   ]
  },
  {
   "cell_type": "code",
   "execution_count": 3,
   "metadata": {},
   "outputs": [],
   "source": [
    "# Load from .npz file\n",
    "DATA_URL = 'https://storage.googleapis.com/tensorflow/tf-keras-datasets/mnist.npz'\n",
    "path = tf.keras.utils.get_file('mnist.npz',DATA_URL)\n",
    "with np.load(path) as data:\n",
    "    train_examples = data['x_train']\n",
    "    train_labels = data['y_train']\n",
    "    test_examples = data['x_test']\n",
    "    test_labels = data['y_test']"
   ]
  },
  {
   "cell_type": "code",
   "execution_count": 8,
   "metadata": {},
   "outputs": [],
   "source": [
    "# Load NumPy arrays with tf.data.Dataset\n",
    "# (tf.data.Dataset.from_tensor_slices) to create a (tf.data.Dataset)\n",
    "train_dataset = tf.data.Dataset.from_tensor_slices((train_examples, train_labels))\n",
    "test_dataset = tf.data.Dataset.from_tensor_slices((test_examples, test_labels))"
   ]
  },
  {
   "cell_type": "code",
   "execution_count": 9,
   "metadata": {},
   "outputs": [],
   "source": [
    "# Use the datasets\n",
    "# Shuffle and Batch the datasets\n",
    "BATCH_SIZE = 64\n",
    "SHUFFLE_BUFFER_SIZE = 100\n",
    "\n",
    "train_dataset = train_dataset.shuffle(SHUFFLE_BUFFER_SIZE).batch(BATCH_SIZE)\n",
    "test_dataset = test_dataset.batch(BATCH_SIZE)"
   ]
  },
  {
   "cell_type": "code",
   "execution_count": 11,
   "metadata": {},
   "outputs": [
    {
     "name": "stdout",
     "output_type": "stream",
     "text": [
      "Epoch 1/10\n",
      "938/938 - 21s - loss: 3.8129 - sparse_categorical_accuracy: 0.8787\n",
      "Epoch 2/10\n",
      "938/938 - 13s - loss: 0.5613 - sparse_categorical_accuracy: 0.9256\n",
      "Epoch 3/10\n",
      "938/938 - 12s - loss: 0.4106 - sparse_categorical_accuracy: 0.9453\n",
      "Epoch 4/10\n",
      "938/938 - 11s - loss: 0.3383 - sparse_categorical_accuracy: 0.9538\n",
      "Epoch 5/10\n",
      "938/938 - 12s - loss: 0.3014 - sparse_categorical_accuracy: 0.9583\n",
      "Epoch 6/10\n",
      "938/938 - 12s - loss: 0.2703 - sparse_categorical_accuracy: 0.9639\n",
      "Epoch 7/10\n",
      "938/938 - 11s - loss: 0.2524 - sparse_categorical_accuracy: 0.9677\n",
      "Epoch 8/10\n",
      "938/938 - 11s - loss: 0.2344 - sparse_categorical_accuracy: 0.9706\n",
      "Epoch 9/10\n",
      "938/938 - 11s - loss: 0.2327 - sparse_categorical_accuracy: 0.9722\n",
      "Epoch 10/10\n",
      "938/938 - 11s - loss: 0.1979 - sparse_categorical_accuracy: 0.9748\n"
     ]
    },
    {
     "data": {
      "text/plain": [
       "<tensorflow.python.keras.callbacks.History at 0x7f087efbca10>"
      ]
     },
     "execution_count": 11,
     "metadata": {},
     "output_type": "execute_result"
    }
   ],
   "source": [
    "# BUILD and TRAIN a MODEL\n",
    "model = tf.keras.Sequential([\n",
    "    tf.keras.layers.Flatten(input_shape=(28,28)),\n",
    "    tf.keras.layers.Dense(128, activation='relu'),\n",
    "    tf.keras.layers.Dense(10, activation='softmax')\n",
    "])\n",
    "\n",
    "model.compile(\n",
    "    optimizer=tf.keras.optimizers.RMSprop(),\n",
    "    loss=tf.keras.losses.SparseCategoricalCrossentropy(),\n",
    "    metrics=[tf.keras.metrics.SparseCategoricalAccuracy()]\n",
    ")\n",
    "\n",
    "model.fit(train_dataset, epochs=10, verbose=2)"
   ]
  },
  {
   "cell_type": "code",
   "execution_count": 12,
   "metadata": {},
   "outputs": [
    {
     "name": "stdout",
     "output_type": "stream",
     "text": [
      "157/157 [==============================] - 2s 12ms/step - loss: 0.6512 - sparse_categorical_accuracy: 0.9571\n"
     ]
    },
    {
     "data": {
      "text/plain": [
       "[0.6511533808892016, 0.9571]"
      ]
     },
     "execution_count": 12,
     "metadata": {},
     "output_type": "execute_result"
    }
   ],
   "source": [
    "model.evaluate(test_dataset)"
   ]
  }
 ],
 "metadata": {
  "kernelspec": {
   "display_name": "Python 3",
   "language": "python",
   "name": "python3"
  },
  "language_info": {
   "codemirror_mode": {
    "name": "ipython",
    "version": 3
   },
   "file_extension": ".py",
   "mimetype": "text/x-python",
   "name": "python",
   "nbconvert_exporter": "python",
   "pygments_lexer": "ipython3",
   "version": "3.7.4"
  }
 },
 "nbformat": 4,
 "nbformat_minor": 2
}
