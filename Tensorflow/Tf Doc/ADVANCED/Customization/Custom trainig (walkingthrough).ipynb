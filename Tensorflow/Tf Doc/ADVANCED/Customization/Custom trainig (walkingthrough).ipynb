{
 "cells": [
  {
   "cell_type": "code",
   "execution_count": null,
   "metadata": {},
   "outputs": [],
   "source": [
    "# This guide uses machine learning to categorize Iris flowers \n",
    "# by species\n",
    "########################\n",
    "# 1. Build a model\n",
    "# 2. Train this model on example data\n",
    "# 3. Use the model to make predictions about unknown data\n"
   ]
  },
  {
   "cell_type": "code",
   "execution_count": 4,
   "metadata": {},
   "outputs": [],
   "source": [
    "# SETUP\n",
    "# configure Imports\n",
    "####################\n",
    "from __future__ import absolute_import, division, print_function, unicode_literals\n",
    "\n",
    "import os\n",
    "import matplotlib.pyplot as plt\n",
    "import tensorflow as tf\n",
    "tf.enable_eager_execution()"
   ]
  },
  {
   "cell_type": "code",
   "execution_count": 5,
   "metadata": {},
   "outputs": [
    {
     "name": "stdout",
     "output_type": "stream",
     "text": [
      "TensorFlow version: 1.14.0\n",
      "Eager execution: True\n"
     ]
    }
   ],
   "source": [
    "print(\"TensorFlow version: {}\".format(tf.__version__))\n",
    "print(\"Eager execution: {}\".format(tf.executing_eagerly()))\n"
   ]
  },
  {
   "cell_type": "code",
   "execution_count": 8,
   "metadata": {},
   "outputs": [
    {
     "name": "stdout",
     "output_type": "stream",
     "text": [
      "Local copy of the dataset file: /home/george/.keras/datasets/iris_training.csv\n"
     ]
    }
   ],
   "source": [
    "# THE IRIS CLASSIFICATION PROBLEM\n",
    "#################################\n",
    "# Import and parse the traininig dataset\n",
    "# Download the dataset\n",
    "training_dataset_url = 'https://storage.googleapis.com/download.tensorflow.org/data/iris_training.csv'\n",
    "train_dataset_fp = tf.keras.utils.get_file(\n",
    "    fname=os.path.basename(training_dataset_url),\n",
    "    origin=training_dataset_url\n",
    ")\n",
    "print('Local copy of the dataset file: {}'.format(\n",
    "    train_dataset_fp\n",
    "))"
   ]
  },
  {
   "cell_type": "code",
   "execution_count": 15,
   "metadata": {},
   "outputs": [
    {
     "name": "stdout",
     "output_type": "stream",
     "text": [
      "120,4,setosa,versicolor,virginica\r\n",
      "6.4,2.8,5.6,2.2,2\r\n",
      "5.0,2.3,3.3,1.0,1\r\n",
      "4.9,2.5,4.5,1.7,2\r\n",
      "4.9,3.1,1.5,0.1,0\r\n"
     ]
    }
   ],
   "source": [
    "# Inspect the data\n",
    "###################\n",
    "!head -n5 {train_dataset_fp}"
   ]
  },
  {
   "cell_type": "code",
   "execution_count": 16,
   "metadata": {},
   "outputs": [
    {
     "name": "stdout",
     "output_type": "stream",
     "text": [
      "Features: ['sepal_length', 'sepal_width', 'petal_length', 'petal_width']\n",
      "Label: species\n"
     ]
    }
   ],
   "source": [
    "# column order in CSV file\n",
    "column_names = ['sepal_length','sepal_width',\n",
    "                'petal_length','petal_width',\n",
    "                'species']\n",
    "feature_names = column_names[:-1]\n",
    "label_name = column_names[-1]\n",
    "\n",
    "print('Features: {}'.format(feature_names))\n",
    "print('Label: {}'.format(label_name))"
   ]
  },
  {
   "cell_type": "code",
   "execution_count": 17,
   "metadata": {},
   "outputs": [],
   "source": [
    "# 0 -> Iris Setosa\n",
    "# 1 -> Iris Versicolor\n",
    "# 2 -> Iris Virginica\n",
    "class_names = ['Iris setosa','Iris versicolor','Iris virginica']"
   ]
  },
  {
   "cell_type": "code",
   "execution_count": 39,
   "metadata": {},
   "outputs": [],
   "source": [
    "# Create a (tf.data.Dataset)\n",
    "################################\n",
    "# since the dataset is a CSV-formatted text file, use the \n",
    "# (make_csv_dataset) function to parse the data into a suitable\n",
    "# format.\n",
    "# Since this function generates data for training models, the\n",
    "# default behaviour is to shuffle the data (shuffle=True),\n",
    "# (shuffle_buffer_size=10000), and repeat the dataset forever\n",
    "# (num_epochs=None).\n",
    "# We also set the (batch_size) parameter\n",
    "\n",
    "batch_size = 32\n",
    "\n",
    "train_dataset = tf.data.experimental.make_csv_dataset(\n",
    "    train_dataset_fp,\n",
    "    batch_size,\n",
    "    column_names=column_names,\n",
    "    label_name=label_name,\n",
    "    num_epochs=1\n",
    ")"
   ]
  },
  {
   "cell_type": "code",
   "execution_count": 40,
   "metadata": {},
   "outputs": [
    {
     "name": "stdout",
     "output_type": "stream",
     "text": [
      "OrderedDict([('sepal_length', <tf.Tensor: id=275, shape=(32,), dtype=float32, numpy=\n",
      "array([6.7, 6.4, 6.8, 6.6, 5.1, 6.6, 7.2, 4.9, 6. , 5.1, 6.7, 6.3, 6.8,\n",
      "       5. , 7.7, 5.5, 7.3, 4.4, 6.4, 4.9, 4.9, 4.6, 5.2, 6.3, 5. , 5.7,\n",
      "       4.6, 6.5, 6.3, 5.8, 4.8, 6.9], dtype=float32)>), ('sepal_width', <tf.Tensor: id=276, shape=(32,), dtype=float32, numpy=\n",
      "array([3.3, 3.2, 2.8, 3. , 3.7, 2.9, 3. , 3.1, 2.9, 2.5, 3.1, 3.4, 3.2,\n",
      "       3.5, 3. , 2.4, 2.9, 2.9, 3.1, 2.5, 2.4, 3.2, 2.7, 3.3, 3.4, 3.8,\n",
      "       3.1, 3. , 2.7, 4. , 3. , 3.2], dtype=float32)>), ('petal_length', <tf.Tensor: id=273, shape=(32,), dtype=float32, numpy=\n",
      "array([5.7, 4.5, 4.8, 4.4, 1.5, 4.6, 5.8, 1.5, 4.5, 3. , 4.4, 5.6, 5.9,\n",
      "       1.3, 6.1, 3.8, 6.3, 1.4, 5.5, 4.5, 3.3, 1.4, 3.9, 4.7, 1.5, 1.7,\n",
      "       1.5, 5.5, 4.9, 1.2, 1.4, 5.7], dtype=float32)>), ('petal_width', <tf.Tensor: id=274, shape=(32,), dtype=float32, numpy=\n",
      "array([2.1, 1.5, 1.4, 1.4, 0.4, 1.3, 1.6, 0.1, 1.5, 1.1, 1.4, 2.4, 2.3,\n",
      "       0.3, 2.3, 1.1, 1.8, 0.2, 1.8, 1.7, 1. , 0.2, 1.4, 1.6, 0.2, 0.3,\n",
      "       0.2, 1.8, 1.8, 0.2, 0.1, 2.3], dtype=float32)>)])\n"
     ]
    }
   ],
   "source": [
    "# The (make_csv_dataset) function returns a (tf.data.Dataset)\n",
    "# of (features, label) pairs, where (features) is dictionary:-\n",
    "# {'feature_name':value}\n",
    "# These Dataset objects are iterable.\n",
    "# Let's look at a batch of features\n",
    "\n",
    "features, labels = next(iter(train_dataset))\n",
    "print(features)\n"
   ]
  },
  {
   "cell_type": "code",
   "execution_count": 41,
   "metadata": {},
   "outputs": [
    {
     "name": "stdout",
     "output_type": "stream",
     "text": [
      "32\n",
      "32\n",
      "32\n",
      "32\n"
     ]
    }
   ],
   "source": [
    "# confirm the batch size\n",
    "for f in features:\n",
    "    print(len(features[f].numpy()))"
   ]
  },
  {
   "cell_type": "code",
   "execution_count": 42,
   "metadata": {},
   "outputs": [
    {
     "data": {
      "image/png": "[encoded data removed]",
      "text/plain": [
       "<Figure size 432x288 with 1 Axes>"
      ]
     },
     "metadata": {
      "needs_background": "light"
     },
     "output_type": "display_data"
    }
   ],
   "source": [
    "# See some clusters by plotting a few features from the batch\n",
    "###############################################################\n",
    "plt.scatter(\n",
    "    features['petal_length'],\n",
    "    features['sepal_length'],\n",
    "    c=labels,\n",
    "    cmap='viridis'\n",
    ")\n",
    "plt.xlabel('Petal length')\n",
    "plt.ylabel('Sepal length')\n",
    "plt.show()"
   ]
  },
  {
   "cell_type": "code",
   "execution_count": 43,
   "metadata": {},
   "outputs": [],
   "source": [
    "# To simplify the model building step, create a function to \n",
    "# repackage the features dictionary into a single array\n",
    "# with shape (batch_size, num_features).\n",
    "# This function uses the (tf.stack) method which takes values\n",
    "# from a list of tensors and creates a combined tensor at the \n",
    "# specified dimension\n",
    "\n",
    "def pack_features_vector(features, labels):\n",
    "    '''Pack the features into a single array'''\n",
    "    features = tf.stack(list(features.values()), axis=1)\n",
    "    return features, labels"
   ]
  },
  {
   "cell_type": "code",
   "execution_count": 44,
   "metadata": {},
   "outputs": [],
   "source": [
    "# Use the (tf.data.Dataset.map) method to pack the (features) \n",
    "# of each (features,label) pair into the training dataset.\n",
    "train_dataset = train_dataset.map(pack_features_vector)"
   ]
  },
  {
   "cell_type": "code",
   "execution_count": 47,
   "metadata": {},
   "outputs": [
    {
     "name": "stdout",
     "output_type": "stream",
     "text": [
      "tf.Tensor(\n",
      "[[6.7 3.3 5.7 2.1]\n",
      " [6.4 3.2 4.5 1.5]\n",
      " [6.8 2.8 4.8 1.4]\n",
      " [6.6 3.  4.4 1.4]\n",
      " [5.1 3.7 1.5 0.4]], shape=(5, 4), dtype=float32)\n"
     ]
    }
   ],
   "source": [
    "# The feature element of the (Dataset) are now arrays with\n",
    "# shape (batch_size, num_features). \n",
    "features, labels = next(iter(train_dataset))\n",
    "print(features[:5])"
   ]
  },
  {
   "cell_type": "code",
   "execution_count": 48,
   "metadata": {},
   "outputs": [],
   "source": [
    "# Select the type of model\n",
    "##########################\n",
    "# A model is a relationship between features and the label.\n",
    "######\n",
    "# Create a model using Keras\n",
    "############################\n",
    "model = tf.keras.Sequential([\n",
    "    tf.keras.layers.Dense(10, activation=tf.nn.relu, input_shape=(4,)),\n",
    "    tf.keras.layers.Dense(10, activation=tf.nn.relu),\n",
    "    tf.keras.layers.Dense(3)\n",
    "])"
   ]
  },
  {
   "cell_type": "code",
   "execution_count": 51,
   "metadata": {},
   "outputs": [
    {
     "data": {
      "text/plain": [
       "<tf.Tensor: id=481, shape=(5, 3), dtype=float32, numpy=\n",
       "array([[3.5379252 , 2.5882993 , 1.1494532 ],\n",
       "       [2.6911721 , 1.8851736 , 0.96337473],\n",
       "       [2.9838514 , 2.1036763 , 1.052392  ],\n",
       "       [2.6502433 , 1.8339763 , 0.97241503],\n",
       "       [0.13276246, 0.4292511 , 0.1985964 ]], dtype=float32)>"
      ]
     },
     "execution_count": 51,
     "metadata": {},
     "output_type": "execute_result"
    }
   ],
   "source": [
    "# Using the model\n",
    "####################\n",
    "predictions = model(features)\n",
    "predictions[:5]"
   ]
  },
  {
   "cell_type": "code",
   "execution_count": 60,
   "metadata": {},
   "outputs": [
    {
     "data": {
      "text/plain": [
       "<tf.Tensor: id=548, shape=(5, 3), dtype=float32, numpy=\n",
       "array([[0.6762901 , 0.26164696, 0.062063  ],\n",
       "       [0.6156434 , 0.27497202, 0.10938465],\n",
       "       [0.6411708 , 0.26590014, 0.09292907],\n",
       "       [0.61392707, 0.27140418, 0.11466879],\n",
       "       [0.2929822 , 0.39409834, 0.31291944]], dtype=float32)>"
      ]
     },
     "execution_count": 60,
     "metadata": {},
     "output_type": "execute_result"
    }
   ],
   "source": [
    "# COnver the logitsto a probability for each class,\n",
    "# use (softmax) function\n",
    "tf.nn.softmax(predictions[:5])"
   ]
  },
  {
   "cell_type": "code",
   "execution_count": 66,
   "metadata": {},
   "outputs": [
    {
     "data": {
      "text/plain": [
       "1.0"
      ]
     },
     "execution_count": 66,
     "metadata": {},
     "output_type": "execute_result"
    }
   ],
   "source": [
    "# Confirm softmax\n",
    "tf.reduce_sum(tf.nn.softmax(predictions[:5][3])).numpy()"
   ]
  },
  {
   "cell_type": "code",
   "execution_count": 67,
   "metadata": {},
   "outputs": [
    {
     "name": "stdout",
     "output_type": "stream",
     "text": [
      "Prediction: [0 0 0 0 1 0 0 1 0 0 0 0 0 1 0 0 0 1 0 0 0 1 0 0 1 1 1 0 0 1 1 0]\n",
      "         Labels: [2 1 1 1 0 1 2 0 1 1 1 2 2 0 2 1 2 0 2 2 1 0 1 1 0 0 0 2 2 0 0 2]\n"
     ]
    }
   ],
   "source": [
    "# Taking the (tf.argmax) across classes gives us the predicted\n",
    "# class index.\n",
    "# But the model has'nt been trained yet, so these aren't \n",
    "# predictions\n",
    "print('Prediction: {}'.format(\n",
    "    tf.argmax(predictions, axis=1)\n",
    "))\n",
    "print('         Labels: {}'.format(labels))"
   ]
  },
  {
   "cell_type": "code",
   "execution_count": 68,
   "metadata": {},
   "outputs": [],
   "source": [
    "# TRAIN THE MODEL\n",
    "##################\n",
    "# Define the loss and gradient function\n",
    "####\n",
    "# Or model will calculate its loss using the\n",
    "# (tf.keras.losses.SparseCategoricalCrossentropy) function\n",
    "# which takes the model's class probability predictions and the\n",
    "# desired label, and returns the average loss across the \n",
    "# examples\n",
    "loss_object = tf.keras.losses.SparseCategoricalCrossentropy(from_logits=True)"
   ]
  },
  {
   "cell_type": "code",
   "execution_count": 69,
   "metadata": {},
   "outputs": [
    {
     "name": "stdout",
     "output_type": "stream",
     "text": [
      "loss test: 1.7599759101867676\n"
     ]
    }
   ],
   "source": [
    "def loss(model, x, y):\n",
    "    y_ = model(x)\n",
    "    return loss_object(y_true=y, y_pred=y_)\n",
    "\n",
    "l = loss(model, features, labels)\n",
    "print('loss test: {}'.format(l))"
   ]
  },
  {
   "cell_type": "code",
   "execution_count": 71,
   "metadata": {},
   "outputs": [],
   "source": [
    "# Use the (tf.GradientTape) context to calculate the gradients\n",
    "# used to optimize your model.\n",
    "def grad(model, inputs, targets):\n",
    "    with tf.GradientTape() as tape:\n",
    "        loss_value = loss(model, inputs, targets)\n",
    "    return loss_value, tape.gradient(loss_value, model.trainable_variables)"
   ]
  },
  {
   "cell_type": "code",
   "execution_count": 72,
   "metadata": {},
   "outputs": [],
   "source": [
    "# Create an optimizer\n",
    "######################\n",
    "# An optimizer applies the computed gradients to the model's \n",
    "# variables to minimize the loss function.\n",
    "## #\n",
    "# This model uses the (tf.keras.optimizers.SGD) that implements\n",
    "# the stochastic gradient descent (SGD) algorithm.\n",
    "# The learning_rate sets the step size to take for each \n",
    "# iteration down the hill.\n",
    "\n",
    "optimizer = tf.keras.optimizers.SGD(learning_rate=0.01)"
   ]
  },
  {
   "cell_type": "code",
   "execution_count": 73,
   "metadata": {},
   "outputs": [
    {
     "name": "stdout",
     "output_type": "stream",
     "text": [
      "Step: 0, Initial Loss: 1.7599759101867676\n",
      "Step: 1,          Loss: 1.6822283267974854\n"
     ]
    }
   ],
   "source": [
    "# We'll use this to calculate a single optimization step\n",
    "loss_value, grads = grad(model,features, labels)\n",
    "\n",
    "print('Step: {}, Initial Loss: {}'.format(\n",
    "    optimizer.iterations.numpy(),\n",
    "    loss_value.numpy()\n",
    "))\n",
    "optimizer.apply_gradients(zip(grads, model.trainable_variables))\n",
    "\n",
    "print('Step: {},          Loss: {}'.format(\n",
    "    optimizer.iterations.numpy(),\n",
    "    loss(model, features, labels).numpy()\n",
    "))"
   ]
  },
  {
   "cell_type": "code",
   "execution_count": 87,
   "metadata": {},
   "outputs": [
    {
     "name": "stdout",
     "output_type": "stream",
     "text": [
      "Epoch 000: Loss: 1.682, Accuracy: 0.000%\n",
      "Epoch 050: Loss: 1.682, Accuracy: 35.000%\n",
      "Epoch 100: Loss: 1.682, Accuracy: 35.000%\n",
      "Epoch 150: Loss: 1.682, Accuracy: 35.000%\n",
      "Epoch 200: Loss: 1.682, Accuracy: 35.000%\n"
     ]
    }
   ],
   "source": [
    "# Training Loop\n",
    "################\n",
    "# 1. Iterate each epoch. (epoch is one pass through the dataset)\n",
    "# 2. Within an epoch, iterate over each example in the training\n",
    "# (Dataset) grabbing its features (x) and label (y)\n",
    "# 3. Using the example's features, make a prediction and \n",
    "# compare it with the label.\n",
    "# Measure the inaccuracy of the prediction and use that to \n",
    "# calculate the model's loss and gradients\n",
    "# 4. Use an (optimizer) to update the model's variables\n",
    "# 5. Keep track of some stats for visualization\n",
    "# 6. Repeat for each epoch\n",
    "\n",
    "####################\n",
    "## Note: Rerunning this cell uses the same model variables\n",
    "\n",
    "# Keep results for plotting\n",
    "train_loss_results = []\n",
    "train_accuracy_results = []\n",
    "\n",
    "num_epochs = 201\n",
    "\n",
    "for epoch in range(num_epochs):\n",
    "  epoch_loss_avg = tf.keras.metrics.Mean()\n",
    "  epoch_accuracy = tf.keras.metrics.SparseCategoricalAccuracy()\n",
    "\n",
    "  # Training loop - using batches of 32\n",
    "  for x, y in train_dataset:\n",
    "    # Optimize the model\n",
    "    loss_value, grads = grad(model, x, y)\n",
    "    optimizer.apply_gradients(zip(grads, model.trainable_variables))\n",
    "\n",
    "    # Track progress\n",
    "    epoch_loss_avg(loss_value)  # Add current batch loss\n",
    "    # Compare predicted label to actual label\n",
    "    epoch_accuracy(y, model(x))\n",
    "\n",
    "  # End epoch\n",
    "  train_loss_results.append(epoch_loss_avg.result())\n",
    "  train_accuracy_results.append(epoch_accuracy.result())\n",
    "\n",
    "  if epoch % 50 == 0:\n",
    "    print(\"Epoch {:03d}: Loss: {:.3f}, Accuracy: {:.3%}\".format(epoch,\n",
    "                                                                epoch_loss_avg.result(),\n",
    "                                                                epoch_accuracy.result()))\n"
   ]
  },
  {
   "cell_type": "code",
   "execution_count": null,
   "metadata": {},
   "outputs": [],
   "source": [
    "# Visualize the loss function over time\n",
    "fig, axes = plt.subplots(2, sharex=True, figsize=(12,8))\n",
    "fig.suptitle('Training Metrics')\n",
    "\n",
    "axes[0].set_ylabel('Loss',fontsize=14)\n",
    "axes[0].plot(train_loss_results)\n",
    "\n",
    "axes[1].set_ylabel(\"Accuracy\", fontsize=14)\n",
    "axes[1].set_xlabel(\"Epoch\", fontsize=14)\n",
    "axes[1].plot(train_accuracy_results)\n",
    "plt.show()\n"
   ]
  },
  {
   "cell_type": "code",
   "execution_count": 78,
   "metadata": {},
   "outputs": [],
   "source": [
    "# Evaluate the model's effectiveness\n",
    "##########"
   ]
  },
  {
   "cell_type": "code",
   "execution_count": 79,
   "metadata": {},
   "outputs": [],
   "source": [
    "# Setup the test dataset\n",
    "#####################\n",
    "test_url = \"https://storage.googleapis.com/download.tensorflow.org/data/iris_test.csv\"\n",
    "\n",
    "test_fp = tf.keras.utils.get_file(fname=os.path.basename(test_url),\n",
    "                                  origin=test_url)\n",
    "\n",
    "test_dataset = tf.data.experimental.make_csv_dataset(\n",
    "    test_fp,\n",
    "    batch_size,\n",
    "    column_names=column_names,\n",
    "    label_name='species',\n",
    "    num_epochs=1,\n",
    "    shuffle=False)\n",
    "\n",
    "test_dataset = test_dataset.map(pack_features_vector)\n"
   ]
  },
  {
   "cell_type": "code",
   "execution_count": 81,
   "metadata": {},
   "outputs": [
    {
     "name": "stdout",
     "output_type": "stream",
     "text": [
      "Test set accuracy: 0.000%\n"
     ]
    }
   ],
   "source": [
    "# Evaluate the model on the test dataset\n",
    "#####\n",
    "test_accuracy = tf.keras.metrics.Accuracy()\n",
    "for (x,y) in test_dataset:\n",
    "    logits = model(x)\n",
    "    prediction = tf.argmax(logits, axis=1, output_type=tf.int32)\n",
    "    test_accuracy(prediction, y)\n",
    "                  \n",
    "                  \n",
    "print(\"Test set accuracy: {:.3%}\".format(test_accuracy.result()))\n"
   ]
  },
  {
   "cell_type": "code",
   "execution_count": 82,
   "metadata": {},
   "outputs": [
    {
     "data": {
      "text/plain": [
       "<tf.Tensor: id=1178, shape=(30, 2), dtype=int32, numpy=\n",
       "array([[1, 0],\n",
       "       [2, 0],\n",
       "       [0, 1],\n",
       "       [1, 0],\n",
       "       [1, 0],\n",
       "       [1, 0],\n",
       "       [0, 1],\n",
       "       [2, 0],\n",
       "       [1, 0],\n",
       "       [2, 0],\n",
       "       [2, 0],\n",
       "       [0, 1],\n",
       "       [2, 0],\n",
       "       [1, 0],\n",
       "       [1, 0],\n",
       "       [0, 1],\n",
       "       [1, 0],\n",
       "       [0, 1],\n",
       "       [0, 1],\n",
       "       [2, 0],\n",
       "       [0, 1],\n",
       "       [1, 0],\n",
       "       [2, 0],\n",
       "       [1, 0],\n",
       "       [1, 0],\n",
       "       [1, 0],\n",
       "       [0, 1],\n",
       "       [1, 0],\n",
       "       [2, 0],\n",
       "       [1, 0]], dtype=int32)>"
      ]
     },
     "execution_count": 82,
     "metadata": {},
     "output_type": "execute_result"
    }
   ],
   "source": [
    "# We can see on the batch, eg. the model is usually correct\n",
    "tf.stack([y, prediction], axis=1)"
   ]
  },
  {
   "cell_type": "code",
   "execution_count": 83,
   "metadata": {},
   "outputs": [
    {
     "name": "stdout",
     "output_type": "stream",
     "text": [
      "Example 0 prediction: Iris versicolor (35.6%)\n",
      "Example 1 prediction: Iris setosa (54.7%)\n",
      "Example 2 prediction: Iris setosa (61.6%)\n"
     ]
    }
   ],
   "source": [
    "# Use the trained model to make predictions\n",
    "predict_dataset = tf.convert_to_tensor([\n",
    "    [5.1, 3.3, 1.7, 0.5,],\n",
    "    [5.9, 3.0, 4.2, 1.5,],\n",
    "    [6.9, 3.1, 5.4, 2.1]\n",
    "])\n",
    "\n",
    "predictions = model(predict_dataset)\n",
    "for i, logits in enumerate(predictions):\n",
    "  class_idx = tf.argmax(logits).numpy()\n",
    "  p = tf.nn.softmax(logits)[class_idx]\n",
    "  name = class_names[class_idx]\n",
    "  print(\"Example {} prediction: {} ({:4.1f}%)\".format(i, name, 100*p))\n"
   ]
  }
 ],
 "metadata": {
  "kernelspec": {
   "display_name": "Python 3",
   "language": "python",
   "name": "python3"
  },
  "language_info": {
   "codemirror_mode": {
    "name": "ipython",
    "version": 3
   },
   "file_extension": ".py",
   "mimetype": "text/x-python",
   "name": "python",
   "nbconvert_exporter": "python",
   "pygments_lexer": "ipython3",
   "version": "3.7.4"
  }
 },
 "nbformat": 4,
 "nbformat_minor": 2
}
