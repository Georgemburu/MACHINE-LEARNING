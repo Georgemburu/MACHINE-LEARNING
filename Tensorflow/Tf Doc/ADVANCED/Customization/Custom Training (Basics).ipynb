{
 "cells": [
  {
   "cell_type": "code",
   "execution_count": 2,
   "metadata": {},
   "outputs": [],
   "source": [
    "from __future__ import absolute_import, division, print_function, unicode_literals\n",
    "\n",
    "import tensorflow as tf\n",
    "tf.enable_eager_execution()"
   ]
  },
  {
   "cell_type": "code",
   "execution_count": 3,
   "metadata": {},
   "outputs": [
    {
     "name": "stdout",
     "output_type": "stream",
     "text": [
      "tf.Tensor(\n",
      "[[2. 2. 2. 2. 2. 2. 2. 2. 2. 2.]\n",
      " [2. 2. 2. 2. 2. 2. 2. 2. 2. 2.]\n",
      " [2. 2. 2. 2. 2. 2. 2. 2. 2. 2.]\n",
      " [2. 2. 2. 2. 2. 2. 2. 2. 2. 2.]\n",
      " [2. 2. 2. 2. 2. 2. 2. 2. 2. 2.]\n",
      " [2. 2. 2. 2. 2. 2. 2. 2. 2. 2.]\n",
      " [2. 2. 2. 2. 2. 2. 2. 2. 2. 2.]\n",
      " [2. 2. 2. 2. 2. 2. 2. 2. 2. 2.]\n",
      " [2. 2. 2. 2. 2. 2. 2. 2. 2. 2.]\n",
      " [2. 2. 2. 2. 2. 2. 2. 2. 2. 2.]], shape=(10, 10), dtype=float32)\n"
     ]
    }
   ],
   "source": [
    "# Variables\n",
    "#############\n",
    "# Using Python state\n",
    "x = tf.zeros([10,10])\n",
    "x += 2 \n",
    "print(x)"
   ]
  },
  {
   "cell_type": "code",
   "execution_count": 4,
   "metadata": {},
   "outputs": [],
   "source": [
    "# Use (tf.Variables) to represent weights in a model\n",
    "# A (tf.Variable) object stores a value and implicitly\n",
    "# reads from this stored value.\n",
    "# There are operations (tf.assign_sub), (tf.scatter_update) etc\n",
    "# that manipulate the value stored in a TensorFlow variable.\n",
    "\n",
    "v = tf.Variable(1.0)\n",
    "# Use Python's assert as a debugging statement to test the \n",
    "# condition\n",
    "assert v.numpy() == 1.0\n",
    "\n",
    "# Reassign the value `v`\n",
    "v.assign(3.0)\n",
    "\n",
    "assert v.numpy() == 3.0\n",
    "\n",
    "# Use `v` in a TensorFLow `tf.square()` operation and reassign\n",
    "v.assign(tf.square(v))\n",
    "assert v.numpy() == 9.0"
   ]
  },
  {
   "cell_type": "code",
   "execution_count": 5,
   "metadata": {},
   "outputs": [],
   "source": [
    "# Computations using (tf.Variable) are automatically traced when \n",
    "# computing gradients.\n",
    "# For variables that represent embeddings, TensorFlow will do\n",
    "# sparse updates by default, which are more computation\n",
    "# and memory efficient\n",
    "# A (tf.Variable) is also a way to show a reader of your code \n",
    "# that a piece os state is mutable."
   ]
  },
  {
   "cell_type": "code",
   "execution_count": 6,
   "metadata": {},
   "outputs": [],
   "source": [
    "# Fit a Linear Model\n",
    "####################\n",
    "# STEPS:\n",
    "### 1. Define the model\n",
    "### 2. Define a loss function\n",
    "### 3. Obtain trainig data\n",
    "### 4. Run through the training data and use an 'optimizer'\n",
    "####- to adjust the variables to fit the data\n",
    "###############\n",
    "# Here you will create a simple linear model, \n",
    "# f(x) = x * W + b,\n",
    "# which has two variables: W (weights) and b(bias).\n",
    "# You'll synthesize data such that a well trained model would\n",
    "# have W = 3.0 and b = 2.0\n"
   ]
  },
  {
   "cell_type": "code",
   "execution_count": 8,
   "metadata": {},
   "outputs": [],
   "source": [
    "# Define The Model\n",
    "###################\n",
    "# define a simple class to encapsulate the Variables and the \n",
    "# computation\n",
    "\n",
    "class Model(object):\n",
    "    def __init__(self):\n",
    "        # Intialize the weights to 5.0 and bias to 0.0\n",
    "        # In practice,these shouls be initialized to random\n",
    "        # values (e.g with tf.random.normal)\n",
    "        self.W = tf.Variable(5.0)\n",
    "        self.b = tf.Variable(0.0)\n",
    "        \n",
    "    def __call__(self, x):\n",
    "        return self.W * x + self.b\n",
    "    \n",
    "model = Model()\n",
    "assert model(3.0).numpy() == 15.0"
   ]
  },
  {
   "cell_type": "code",
   "execution_count": 9,
   "metadata": {},
   "outputs": [],
   "source": [
    "# Define a loss function\n",
    "###########################\n",
    "# A loss function measures how well the output of a model\n",
    "# for a given input matches the target output.\n",
    "# The goal is to minimize the difference during training.\n",
    "# Let's use the standard L2 loss, a.k.a the least square errors\n",
    "\n",
    "def loss(predicted_y, target_y):\n",
    "    return tf.reduce_mean(tf.square(predicted_y - target_y))\n"
   ]
  },
  {
   "cell_type": "code",
   "execution_count": 10,
   "metadata": {},
   "outputs": [],
   "source": [
    "# Obtain training data\n",
    "#######################\n",
    "# First, synthesize the training data by adding random Gaussian\n",
    "# (Normal) noise to the inputs\n",
    "TRUE_W = 3.0\n",
    "TRUE_b = 2.0\n",
    "NUM_EXAMPLES = 1000\n",
    "\n",
    "inputs = tf.random.normal(shape=[NUM_EXAMPLES])\n",
    "noise = tf.random.normal(shape=[NUM_EXAMPLES])\n",
    "outputs = inputs * TRUE_W + TRUE_b + noise"
   ]
  },
  {
   "cell_type": "code",
   "execution_count": 11,
   "metadata": {},
   "outputs": [
    {
     "data": {
      "text/plain": [
       "<Figure size 640x480 with 1 Axes>"
      ]
     },
     "metadata": {},
     "output_type": "display_data"
    },
    {
     "name": "stdout",
     "output_type": "stream",
     "text": [
      "Current loss: 8.788500\n"
     ]
    }
   ],
   "source": [
    "# Before training the model, visualize the loss value by \n",
    "# plotting the model's predictions in red and training data \n",
    "# in blue.\n",
    "import matplotlib.pyplot as plt\n",
    "plt.scatter(inputs, outputs, c='b')\n",
    "plt.scatter(inputs, model(inputs), c='r')\n",
    "plt.show()\n",
    "\n",
    "print('Current loss: %1.6f' % loss(model(inputs), outputs).numpy())\n"
   ]
  },
  {
   "cell_type": "code",
   "execution_count": 12,
   "metadata": {},
   "outputs": [],
   "source": [
    "# Define a training loop\n",
    "# Train the model using (gradient descent) to update the weights\n",
    "# variable(W) and the bias variable (b) to reduce the loss.\n",
    "def train(model,inputs,outputs, learning_rate):\n",
    "    with tf.GradientTape() as t:\n",
    "        current_loss = loss(model(inputs), outputs)\n",
    "    dW, db = t.gradient(current_loss, [model.W , model.b])\n",
    "    model.W.assign_sub(learning_rate*dW)\n",
    "    model.b.assign_sub(learning_rate * db)"
   ]
  },
  {
   "cell_type": "code",
   "execution_count": 18,
   "metadata": {},
   "outputs": [
    {
     "name": "stdout",
     "output_type": "stream",
     "text": [
      "Epoch  0: W=5.00 b=0.00, loss=8.78850\n",
      "Epoch  1: W=4.62 b=0.39, loss=6.09091\n",
      "Epoch  2: W=4.30 b=0.70, loss=4.33190\n",
      "Epoch  3: W=4.05 b=0.95, loss=3.18485\n",
      "Epoch  4: W=3.85 b=1.16, loss=2.43684\n",
      "Epoch  5: W=3.68 b=1.32, loss=1.94903\n",
      "Epoch  6: W=3.55 b=1.45, loss=1.63089\n",
      "Epoch  7: W=3.44 b=1.56, loss=1.42340\n",
      "Epoch  8: W=3.35 b=1.64, loss=1.28806\n",
      "Epoch  9: W=3.28 b=1.71, loss=1.19979\n"
     ]
    },
    {
     "data": {
      "image/png": "[encoded data removed]",
      "text/plain": [
       "<Figure size 432x288 with 1 Axes>"
      ]
     },
     "metadata": {
      "needs_background": "light"
     },
     "output_type": "display_data"
    }
   ],
   "source": [
    "# Finally, let's repeatedly run through the training data \n",
    "# and see how W and b evolve.\n",
    "model = Model()\n",
    "# Collect the history of W-values and b-values to plot latter\n",
    "Ws, bs = [], []\n",
    "epochs = range(10)\n",
    "for epoch in epochs:\n",
    "    Ws.append(model.W.numpy())\n",
    "    bs.append(model.b.numpy())\n",
    "    current_loss = loss(model(inputs), outputs)\n",
    "    \n",
    "    train(model, inputs, outputs, learning_rate=0.1)\n",
    "    print('Epoch %2d: W=%1.2f b=%1.2f, loss=%2.5f' %\n",
    "        (epoch, Ws[-1], bs[-1], current_loss))\n",
    "\n",
    "# lets plot it all\n",
    "plt.plot(epochs,Ws, 'r',\n",
    "        epochs, bs,'b')\n",
    "plt.plot([TRUE_W] * len(epochs), 'r--',\n",
    "        [TRUE_b] * len(epochs), 'b--')\n",
    "plt.legend(['W','b','TRUE W', 'TRUE b'])\n",
    "plt.show()"
   ]
  },
  {
   "cell_type": "code",
   "execution_count": null,
   "metadata": {},
   "outputs": [],
   "source": []
  }
 ],
 "metadata": {
  "kernelspec": {
   "display_name": "Python 3",
   "language": "python",
   "name": "python3"
  },
  "language_info": {
   "codemirror_mode": {
    "name": "ipython",
    "version": 3
   },
   "file_extension": ".py",
   "mimetype": "text/x-python",
   "name": "python",
   "nbconvert_exporter": "python",
   "pygments_lexer": "ipython3",
   "version": "3.7.4"
  }
 },
 "nbformat": 4,
 "nbformat_minor": 2
}
