{
 "cells": [
  {
   "cell_type": "code",
   "execution_count": 1,
   "metadata": {},
   "outputs": [],
   "source": [
    "# (automatic differentiation), a key technique for optimizing\n",
    "# machine learning models"
   ]
  },
  {
   "cell_type": "code",
   "execution_count": 3,
   "metadata": {},
   "outputs": [],
   "source": [
    "# SETUP\n",
    "from __future__ import absolute_import, division, print_function, unicode_literals\n",
    "\n",
    "import tensorflow as tf\n",
    "tf.enable_eager_execution()"
   ]
  },
  {
   "cell_type": "code",
   "execution_count": 4,
   "metadata": {},
   "outputs": [],
   "source": [
    "# Gradient Tapes\n",
    "##################\n",
    "# (tf.GradientTape) API for automatic differentiation -\n",
    "# computing the gradient of a computation with respect to its\n",
    "# input variables.\n",
    "# TensorFlow 'records' all operations executed inside the \n",
    "# context of a (tf.GradientTape) onto a 'tape'.\n",
    "# TensorFlow then uses that tape and the gradients associated \n",
    "# with each recorded operation to compute the gradients of\n",
    "# a 'recorded' computation using `reverse mode differentiation`\n",
    "## e.g\n",
    "x = tf.ones((2,2))\n",
    "\n",
    "with tf.GradientTape() as t:\n",
    "    t.watch(x)\n",
    "    y = tf.reduce_sum(x)\n",
    "    z = tf.multiply(y,y)\n",
    "    \n",
    "# Derivative of z with respect to the original input tensor x\n",
    "dz_dx = t.gradient(z,x)\n",
    "for i in [0,1]:\n",
    "    for j in [0,1]:\n",
    "        assert dz_dx[i][j].numpy()==8.0"
   ]
  },
  {
   "cell_type": "code",
   "execution_count": 5,
   "metadata": {},
   "outputs": [],
   "source": [
    "# By default, the resources held by a GradientTape are released\n",
    "# as soon as GradientTape.Gradient() methos is called.\n",
    "# To compute multiple gradients over the same computation,\n",
    "# create a (persistent) gradient tape.\n",
    "# This allows multip;e calls to the (gradient()) method as \n",
    "# resources are released when the tape object is garbage \n",
    "# collected.\n",
    "## e.g\n",
    "x = tf.constant(3.0)\n",
    "with tf.GradientTape(persistent=True) as t:\n",
    "    t.watch(x)\n",
    "    y = x * x\n",
    "    z = y * y\n",
    "\n",
    "dz_dx = t.gradient(z, x) # 108 (4*x^3 at x = 3)\n",
    "dy_dx = t.gradient(y, z) # 6.0\n",
    "del t # Drop the reference to the tape"
   ]
  },
  {
   "cell_type": "code",
   "execution_count": 6,
   "metadata": {},
   "outputs": [],
   "source": [
    "# Record Control Flow.\n",
    "########################\n",
    "# Because tapes record operations as they are executed, Python\n",
    "# control flow (using (if)s and (while)s for example) \n",
    "# is naturally handled.\n",
    "def  f(x,y):\n",
    "    output = 1.0\n",
    "    for i in range(y):\n",
    "        if i > 1 and i < 5:\n",
    "            output = tf.multiply(output, x)\n",
    "    return output\n",
    "\n",
    "def grad(x,y):\n",
    "    with tf.GradientTape() as t:\n",
    "        t.watch(x)\n",
    "        out = f(x,y)\n",
    "    return t.gradient(out, x)\n",
    "\n",
    "x = tf.convert_to_tensor(2.0)\n",
    "\n",
    "assert grad(x, 6).numpy() == 12.0\n",
    "assert grad(x, 5).numpy() == 12.0\n",
    "assert grad(x, 4).numpy() == 4.0"
   ]
  },
  {
   "cell_type": "code",
   "execution_count": 7,
   "metadata": {},
   "outputs": [],
   "source": [
    "# Higher-order Gradients\n",
    "#########################\n",
    "# Operations inside of the (GradientTape) context manager are \n",
    "# recorded for automatic differentiation.\n",
    "# If gradients are computed in that context, then the gradient\n",
    "# computation is recorded as well.\n",
    "# As a result, the exact same API works for higher-order\n",
    "# gradients as well.\n",
    "## e.g\n",
    "x = tf.Variable(1.0) # Create a TensorFlow variable initialized\n",
    "# to 1.0\n",
    "with tf.GradientTape() as t:\n",
    "    with tf.GradientTape() as t2:\n",
    "        y = x * x * x\n",
    "    # Compute the gradient inside the 't' context manager\n",
    "    # which means the gradient computation is differentiable\n",
    "    # as well.\n",
    "    dy_dx = t2.gradient(y, x)\n",
    "d2y_dx2 = t.gradient(dy_dx, x)\n",
    "\n",
    "assert dy_dx.numpy() == 3.0\n",
    "assert d2y_dx2.numpy() == 6.0\n",
    "    "
   ]
  }
 ],
 "metadata": {
  "kernelspec": {
   "display_name": "Python 3",
   "language": "python",
   "name": "python3"
  },
  "language_info": {
   "codemirror_mode": {
    "name": "ipython",
    "version": 3
   },
   "file_extension": ".py",
   "mimetype": "text/x-python",
   "name": "python",
   "nbconvert_exporter": "python",
   "pygments_lexer": "ipython3",
   "version": "3.7.4"
  }
 },
 "nbformat": 4,
 "nbformat_minor": 2
}
