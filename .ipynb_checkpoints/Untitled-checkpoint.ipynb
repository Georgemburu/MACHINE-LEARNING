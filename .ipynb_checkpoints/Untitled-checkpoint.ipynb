{
 "cells": [
  {
   "cell_type": "code",
   "execution_count": 26,
   "metadata": {},
   "outputs": [],
   "source": [
    "import numpy as np;"
   ]
  },
  {
   "cell_type": "code",
   "execution_count": 42,
   "metadata": {},
   "outputs": [],
   "source": [
    "weights = np.array([0.7,0.2,-0.3]);\n",
    "alpha = 0.1;\n",
    "streetlights = np.array([[0,0,1],\n",
    "                         [0,1,1],\n",
    "                         [0,0,1],\n",
    "                         [1,1,1],\n",
    "                         [0,1,1],\n",
    "                         [1,0,1]\n",
    "                        ]);\n",
    "walk_vs_stop = np.array([ 0,1,0,1,1,0]);"
   ]
  },
  {
   "cell_type": "code",
   "execution_count": 43,
   "metadata": {},
   "outputs": [
    {
     "name": "stdout",
     "output_type": "stream",
     "text": [
      "Prediction: STOP\n",
      "Prediction: WALK\n",
      "Prediction: STOP\n",
      "Prediction: WALK\n",
      "Prediction: WALK\n",
      "Prediction: STOP\n",
      "Prediction: STOP\n"
     ]
    }
   ],
   "source": [
    "for i in range(40):\n",
    "    error_for_all_lights = 0;\n",
    "    for row_index in range(len(streetlights)):\n",
    "        input = streetlights[row_index];\n",
    "        goal_prediction = walk_vs_stop[row_index];\n",
    "        \n",
    "        prediction = input.dot(weights);\n",
    "        error = (prediction - goal_prediction) ** 2;\n",
    "        \n",
    "        error_for_all_lights += error;\n",
    "        delta = prediction - goal_prediction;\n",
    "        weights = weights - (alpha * (input * delta));\n",
    "        \n",
    "#         print('prediction:' + str(prediction));\n",
    "        if(i==39):\n",
    "            if(prediction>=0.7):\n",
    "                print('Prediction: WALK')\n",
    "            elif(prediction<0.7):\n",
    "                print('Prediction: STOP')\n",
    "        \n",
    "#     print('weights:'+ str(weights));\n",
    "#     print('Error:' + str(error))"
   ]
  },
  {
   "cell_type": "code",
   "execution_count": null,
   "metadata": {},
   "outputs": [],
   "source": [
    "##prediction\n",
    "# 0,1,0,1,1,0"
   ]
  }
 ],
 "metadata": {
  "kernelspec": {
   "display_name": "Python 3",
   "language": "python",
   "name": "python3"
  },
  "language_info": {
   "codemirror_mode": {
    "name": "ipython",
    "version": 3
   },
   "file_extension": ".py",
   "mimetype": "text/x-python",
   "name": "python",
   "nbconvert_exporter": "python",
   "pygments_lexer": "ipython3",
   "version": "3.7.4"
  }
 },
 "nbformat": 4,
 "nbformat_minor": 2
}
